{
 "cells": [
  {
   "cell_type": "markdown",
   "metadata": {
    "colab_type": "text",
    "id": "ZL_6GK8qX35J"
   },
   "source": [
    "\n",
    "\n",
    "# Week 1: Multiple Output Models using the Keras Functional API\n",
    "\n",
    "Welcome to the first programming assignment of the course! Your task will be to use the Keras functional API to train a model to predict two outputs. For this lab, you will use the **[Wine Quality Dataset](https://archive.ics.uci.edu/ml/datasets/Wine+Quality)** from the **UCI machine learning repository**. It has separate datasets for red wine and white wine.\n",
    "\n",
    "Normally, the wines are classified into one of the quality ratings specified in the attributes. In this exercise, you will combine the two datasets to predict the wine quality and whether the wine is red or white solely from the attributes. \n",
    "\n",
    "You will model wine quality estimations as a regression problem and wine type detection as a binary classification problem.\n",
    "\n",
    "#### Please complete sections that are marked **(TODO)**"
   ]
  },
  {
   "cell_type": "markdown",
   "metadata": {
    "colab_type": "text",
    "id": "obdcD6urYBY9"
   },
   "source": [
    "## Imports"
   ]
  },
  {
   "cell_type": "code",
   "execution_count": 63,
   "metadata": {
    "colab": {},
    "colab_type": "code",
    "id": "t8N3pcTQ5oQI"
   },
   "outputs": [],
   "source": [
    "import tensorflow as tf\n",
    "from tensorflow.keras.models import Model\n",
    "from tensorflow.keras.layers import Dense, Input\n",
    "\n",
    "import numpy as np\n",
    "import matplotlib.pyplot as plt\n",
    "import pandas as pd\n",
    "from sklearn.model_selection import train_test_split\n",
    "from sklearn.metrics import confusion_matrix\n",
    "import itertools\n",
    "\n",
    "import utils"
   ]
  },
  {
   "cell_type": "markdown",
   "metadata": {
    "colab_type": "text",
    "id": "gQMERzWQYpgm"
   },
   "source": [
    "## Load Dataset\n",
    "\n",
    "\n",
    "You will now load the dataset from the [UCI Machine Learning Repository](https://archive.ics.uci.edu/ml/index.php) which are **already saved** in your workspace (*Note: For successful grading, please **do not** modify the default string set to the `URI` variable below*).\n",
    "\n",
    "### Pre-process the white wine dataset (TODO)\n",
    "You will add a new column named `is_red` in your dataframe to indicate if the wine is white or red. \n",
    "- In the white wine dataset, you will fill the column `is_red` with  zeros (0)."
   ]
  },
  {
   "cell_type": "code",
   "execution_count": 64,
   "metadata": {
    "colab": {},
    "colab_type": "code",
    "deletable": false,
    "id": "2qYAjKXCd4RH",
    "nbgrader": {
     "cell_type": "code",
     "checksum": "325ea195519b7035934c95bb529a062c",
     "grade": false,
     "grade_id": "cell-e5bfa0f152d9a21f",
     "locked": false,
     "schema_version": 3,
     "solution": true,
     "task": false
    }
   },
   "outputs": [],
   "source": [
    "## Please uncomment all lines in this cell and replace those marked with `# YOUR CODE HERE`.\n",
    "## You can select all lines in this code cell with Ctrl+A (Windows/Linux) or Cmd+A (Mac), then press Ctrl+/ (Windows/Linux) or Cmd+/ (Mac) to uncomment.\n",
    "\n",
    "\n",
    "\n",
    "# # URL of the white wine dataset\n",
    "URI = './winequality-white.csv'\n",
    "\n",
    "# # load the dataset from the URL\n",
    "white_df = pd.read_csv(URI, sep=\";\")\n",
    "\n",
    "# # fill the `is_red` column with zeros.\n",
    "white_df[\"is_red\"] = list(map(lambda x: int(x), np.zeros(len(white_df))))\n",
    "\n",
    "# # keep only the first of duplicate items\n",
    "white_df = white_df.drop_duplicates(keep='first')\n"
   ]
  },
  {
   "cell_type": "code",
   "execution_count": 65,
   "metadata": {
    "deletable": false,
    "editable": false,
    "nbgrader": {
     "cell_type": "code",
     "checksum": "defe38d6ec58fd31cd67b89e46c4373f",
     "grade": true,
     "grade_id": "cell-30575e713b55fc51",
     "locked": true,
     "points": 1,
     "schema_version": 3,
     "solution": false,
     "task": false
    }
   },
   "outputs": [
    {
     "name": "stdout",
     "output_type": "stream",
     "text": [
      "\u001b[92m All public tests passed\n"
     ]
    }
   ],
   "source": [
    "# You can click `File -> Open` in the menu above and open the `utils.py` file \n",
    "# in case you want to inspect the unit tests being used for each graded function.\n",
    "\n",
    "utils.test_white_df(white_df)\n"
   ]
  },
  {
   "cell_type": "code",
   "execution_count": 66,
   "metadata": {
    "colab": {},
    "colab_type": "code",
    "id": "OQHK0ohBQRCk"
   },
   "outputs": [
    {
     "name": "stdout",
     "output_type": "stream",
     "text": [
      "8.8\n",
      "9.1\n"
     ]
    }
   ],
   "source": [
    "print(white_df.alcohol[0])\n",
    "print(white_df.alcohol[100])\n",
    "\n",
    "# EXPECTED OUTPUT\n",
    "# 8.8\n",
    "# 9.1"
   ]
  },
  {
   "cell_type": "markdown",
   "metadata": {},
   "source": [
    "### Pre-process the red wine dataset (TODO)\n",
    "- In the red wine dataset, you will fill in the column `is_red` with ones (1)."
   ]
  },
  {
   "cell_type": "code",
   "execution_count": 67,
   "metadata": {
    "colab": {},
    "colab_type": "code",
    "deletable": false,
    "id": "8y3QxKwBed8v",
    "nbgrader": {
     "cell_type": "code",
     "checksum": "12e0963d15be33b01b4e6ebc8945e51e",
     "grade": false,
     "grade_id": "cell-e47a40f306593274",
     "locked": false,
     "schema_version": 3,
     "solution": true,
     "task": false
    }
   },
   "outputs": [],
   "source": [
    "## Please uncomment all lines in this cell and replace those marked with `# YOUR CODE HERE`.\n",
    "## You can select all lines in this code cell with Ctrl+A (Windows/Linux) or Cmd+A (Mac), then press Ctrl+/ (Windows/Linux) or Cmd+/ (Mac) to uncomment.\n",
    "\n",
    "\n",
    "\n",
    "# # URL of the red wine dataset\n",
    "URI = './winequality-red.csv'\n",
    "\n",
    "# # load the dataset from the URL\n",
    "red_df = pd.read_csv(URI, sep=\";\")\n",
    "\n",
    "# # fill the `is_red` column with ones.\n",
    "red_df[\"is_red\"] = list(map(lambda x: int(x), np.ones(len(red_df))))\n",
    "\n",
    "# # keep only the first of duplicate items\n",
    "red_df = red_df.drop_duplicates(keep='first')\n"
   ]
  },
  {
   "cell_type": "code",
   "execution_count": 68,
   "metadata": {
    "deletable": false,
    "editable": false,
    "nbgrader": {
     "cell_type": "code",
     "checksum": "d8e0c91b0fd668b63ba74a8f2f958b59",
     "grade": true,
     "grade_id": "cell-2a75937adcc0c25b",
     "locked": true,
     "points": 1,
     "schema_version": 3,
     "solution": false,
     "task": false
    }
   },
   "outputs": [
    {
     "name": "stdout",
     "output_type": "stream",
     "text": [
      "\u001b[92m All public tests passed\n"
     ]
    }
   ],
   "source": [
    "utils.test_red_df(red_df)\n"
   ]
  },
  {
   "cell_type": "code",
   "execution_count": 69,
   "metadata": {
    "colab": {},
    "colab_type": "code",
    "id": "zsB3LUzNQpo_"
   },
   "outputs": [
    {
     "name": "stdout",
     "output_type": "stream",
     "text": [
      "9.4\n",
      "10.2\n"
     ]
    }
   ],
   "source": [
    "print(red_df.alcohol[0])\n",
    "print(red_df.alcohol[100])\n",
    "\n",
    "# EXPECTED OUTPUT\n",
    "# 9.4\n",
    "# 10.2"
   ]
  },
  {
   "cell_type": "markdown",
   "metadata": {
    "colab_type": "text",
    "id": "2G8B-NYuM6-f"
   },
   "source": [
    "### Concatenate the datasets\n",
    "\n",
    "Next, concatenate the red and white wine dataframes."
   ]
  },
  {
   "cell_type": "code",
   "execution_count": 70,
   "metadata": {
    "colab": {},
    "colab_type": "code",
    "id": "YpQrOjJbfN3m"
   },
   "outputs": [],
   "source": [
    "df = pd.concat([red_df, white_df], ignore_index=True)"
   ]
  },
  {
   "cell_type": "code",
   "execution_count": 71,
   "metadata": {
    "colab": {},
    "colab_type": "code",
    "id": "Se2dTmThQyjb"
   },
   "outputs": [
    {
     "name": "stdout",
     "output_type": "stream",
     "text": [
      "9.4\n",
      "9.5\n"
     ]
    }
   ],
   "source": [
    "print(df.alcohol[0])\n",
    "print(df.alcohol[100])\n",
    "\n",
    "# EXPECTED OUTPUT\n",
    "# 9.4\n",
    "# 9.5"
   ]
  },
  {
   "cell_type": "markdown",
   "metadata": {},
   "source": [
    "In a real-world scenario, you should shuffle the data. For this assignment however, **you are not** going to do that because the grader needs to test with deterministic data. If you want the code to do it **after** you've gotten your grade for this notebook, we left the commented line below for reference"
   ]
  },
  {
   "cell_type": "code",
   "execution_count": 72,
   "metadata": {
    "colab": {},
    "colab_type": "code",
    "id": "wx6y3rPpQv4k"
   },
   "outputs": [],
   "source": [
    "#df = df.iloc[np.random.permutation(len(df))]"
   ]
  },
  {
   "cell_type": "markdown",
   "metadata": {
    "colab_type": "text",
    "id": "-EqIcbg5M_n1"
   },
   "source": [
    "This will chart the quality of the wines."
   ]
  },
  {
   "cell_type": "code",
   "execution_count": 73,
   "metadata": {
    "colab": {},
    "colab_type": "code",
    "id": "IsvK0-Sgy17C"
   },
   "outputs": [
    {
     "data": {
      "image/png": "[encoded data removed]",
      "text/plain": [
       "<Figure size 432x288 with 1 Axes>"
      ]
     },
     "metadata": {
      "needs_background": "light"
     },
     "output_type": "display_data"
    }
   ],
   "source": [
    "df['quality'].hist(bins=20);"
   ]
  },
  {
   "cell_type": "markdown",
   "metadata": {
    "colab_type": "text",
    "id": "Nut1rmYLzf-p"
   },
   "source": [
    "### Imbalanced data (TODO)\n",
    "You can see from the plot above that the wine quality dataset is imbalanced. \n",
    "- Since there are very few observations with quality equal to 3, 4, 8 and 9, you can drop these observations from your dataset. \n",
    "- You can do this by removing data belonging to all classes except those > 4 and < 8."
   ]
  },
  {
   "cell_type": "code",
   "execution_count": 74,
   "metadata": {
    "colab": {},
    "colab_type": "code",
    "deletable": false,
    "id": "doH9_-gnf3sz",
    "nbgrader": {
     "cell_type": "code",
     "checksum": "d9ba9fc3a3ca02ccc567be33652b80fe",
     "grade": false,
     "grade_id": "cell-6a3e9db696f6827b",
     "locked": false,
     "schema_version": 3,
     "solution": true,
     "task": false
    }
   },
   "outputs": [],
   "source": [
    "## Please uncomment all lines in this cell and replace those marked with `# YOUR CODE HERE`.\n",
    "## You can select all lines in this code cell with Ctrl+A (Windows/Linux) or Cmd+A (Mac), then press Ctrl+/ (Windows/Linux) or Cmd+/ (Mac) to uncomment.\n",
    "\n",
    "\n",
    "\n",
    "# # get data with wine quality greater than 4 and less than 8\n",
    "df = df[(df['quality'] > 4) & (df['quality'] < 8 )]\n",
    "\n",
    "# # reset index and drop the old one\n",
    "df = df.reset_index(drop=True)"
   ]
  },
  {
   "cell_type": "code",
   "execution_count": 75,
   "metadata": {
    "deletable": false,
    "editable": false,
    "nbgrader": {
     "cell_type": "code",
     "checksum": "281e1d86a4803560ed5892cd7eda4c01",
     "grade": true,
     "grade_id": "cell-aed3da719d4682c7",
     "locked": true,
     "points": 1,
     "schema_version": 3,
     "solution": false,
     "task": false
    }
   },
   "outputs": [
    {
     "name": "stdout",
     "output_type": "stream",
     "text": [
      "\u001b[92m All public tests passed\n"
     ]
    }
   ],
   "source": [
    "utils.test_df_drop(df)\n",
    "\n"
   ]
  },
  {
   "cell_type": "code",
   "execution_count": 76,
   "metadata": {
    "colab": {},
    "colab_type": "code",
    "id": "xNR1iAlMRPXO"
   },
   "outputs": [
    {
     "name": "stdout",
     "output_type": "stream",
     "text": [
      "9.4\n",
      "10.9\n"
     ]
    }
   ],
   "source": [
    "print(df.alcohol[0])\n",
    "print(df.alcohol[100])\n",
    "\n",
    "# EXPECTED OUTPUT\n",
    "# 9.4\n",
    "# 10.9"
   ]
  },
  {
   "cell_type": "markdown",
   "metadata": {
    "colab_type": "text",
    "id": "cwhuRpnVRTzG"
   },
   "source": [
    "You can plot again to see the new range of data and quality"
   ]
  },
  {
   "cell_type": "code",
   "execution_count": 77,
   "metadata": {
    "colab": {},
    "colab_type": "code",
    "id": "857ygzZiLgGg"
   },
   "outputs": [
    {
     "data": {
      "image/png": "[encoded data removed]",
      "text/plain": [
       "<Figure size 432x288 with 1 Axes>"
      ]
     },
     "metadata": {
      "needs_background": "light"
     },
     "output_type": "display_data"
    }
   ],
   "source": [
    "df['quality'].hist(bins=20);"
   ]
  },
  {
   "cell_type": "markdown",
   "metadata": {
    "colab_type": "text",
    "id": "n3k0vqSsp84t"
   },
   "source": [
    "### Train Test Split (TODO)\n",
    "\n",
    "Next, you can split the datasets into training, test and validation datasets.\n",
    "- The data frame should be split 80:20 into `train` and `test` sets.\n",
    "- The resulting `train` should then be split 80:20 into `train` and `val` sets.\n",
    "- The `train_test_split` parameter `test_size` takes a float value that ranges between 0. and 1, and represents the proportion of the dataset that is allocated to the test set.  The rest of the data is allocated to the training set."
   ]
  },
  {
   "cell_type": "code",
   "execution_count": 78,
   "metadata": {
    "colab": {},
    "colab_type": "code",
    "deletable": false,
    "id": "PAVIf2-fgRVY",
    "nbgrader": {
     "cell_type": "code",
     "checksum": "7f5738f4fb51d65adc9a8acbdf2b9970",
     "grade": false,
     "grade_id": "cell-91946cadf745206b",
     "locked": false,
     "schema_version": 3,
     "solution": true,
     "task": false
    }
   },
   "outputs": [],
   "source": [
    "## Please uncomment all lines in this cell and replace those marked with `# YOUR CODE HERE`.\n",
    "## You can select all lines in this code cell with Ctrl+A (Windows/Linux) or Cmd+A (Mac), then press Ctrl+/ (Windows/Linux) or Cmd+/ (Mac) to uncomment.\n",
    "\n",
    "\n",
    "\n",
    "## Please do not change the random_state parameter. This is needed for grading.\n",
    "\n",
    "# # split df into 80:20 train and test sets\n",
    "train, test = train_test_split(df, test_size=0.2, random_state = 1)\n",
    "                               \n",
    "# # split train into 80:20 train and val sets\n",
    "train, val = train_test_split(train, test_size=0.2, random_state = 1)"
   ]
  },
  {
   "cell_type": "code",
   "execution_count": 79,
   "metadata": {
    "colab": {},
    "colab_type": "code",
    "deletable": false,
    "editable": false,
    "id": "57h9LcEzRWpk",
    "nbgrader": {
     "cell_type": "code",
     "checksum": "42adbe9e66efac7c7a5f8cd73ac92f22",
     "grade": true,
     "grade_id": "cell-64b8b38cd0b965f6",
     "locked": true,
     "points": 1,
     "schema_version": 3,
     "solution": false,
     "task": false
    }
   },
   "outputs": [
    {
     "name": "stdout",
     "output_type": "stream",
     "text": [
      "\u001b[92m All public tests passed\n"
     ]
    }
   ],
   "source": [
    "utils.test_data_sizes(train.size, test.size, val.size)\n",
    "\n"
   ]
  },
  {
   "cell_type": "markdown",
   "metadata": {
    "colab_type": "text",
    "id": "RwTNu4KFqG-K"
   },
   "source": [
    "Here's where you can explore the training stats. You can pop the labels 'is_red' and 'quality' from the data as these will be used as the labels\n"
   ]
  },
  {
   "cell_type": "code",
   "execution_count": 80,
   "metadata": {
    "colab": {},
    "colab_type": "code",
    "id": "Y_afyhhHM6WQ"
   },
   "outputs": [],
   "source": [
    "train_stats = train.describe()\n",
    "train_stats.pop('is_red')\n",
    "train_stats.pop('quality')\n",
    "train_stats = train_stats.transpose()"
   ]
  },
  {
   "cell_type": "markdown",
   "metadata": {
    "colab_type": "text",
    "id": "ahvbYm4fNqSt"
   },
   "source": [
    "Explore the training stats!"
   ]
  },
  {
   "cell_type": "code",
   "execution_count": 81,
   "metadata": {
    "colab": {},
    "colab_type": "code",
    "id": "n_gAtPjZ0otF"
   },
   "outputs": [
    {
     "data": {
      "text/html": [
       "<div>\n",
       "<style scoped>\n",
       "    .dataframe tbody tr th:only-of-type {\n",
       "        vertical-align: middle;\n",
       "    }\n",
       "\n",
       "    .dataframe tbody tr th {\n",
       "        vertical-align: top;\n",
       "    }\n",
       "\n",
       "    .dataframe thead th {\n",
       "        text-align: right;\n",
       "    }\n",
       "</style>\n",
       "<table border=\"1\" class=\"dataframe\">\n",
       "  <thead>\n",
       "    <tr style=\"text-align: right;\">\n",
       "      <th></th>\n",
       "      <th>count</th>\n",
       "      <th>mean</th>\n",
       "      <th>std</th>\n",
       "      <th>min</th>\n",
       "      <th>25%</th>\n",
       "      <th>50%</th>\n",
       "      <th>75%</th>\n",
       "      <th>max</th>\n",
       "    </tr>\n",
       "  </thead>\n",
       "  <tbody>\n",
       "    <tr>\n",
       "      <th>fixed acidity</th>\n",
       "      <td>3155.0</td>\n",
       "      <td>7.221616</td>\n",
       "      <td>1.325297</td>\n",
       "      <td>3.80000</td>\n",
       "      <td>6.40000</td>\n",
       "      <td>7.00000</td>\n",
       "      <td>7.7000</td>\n",
       "      <td>15.60000</td>\n",
       "    </tr>\n",
       "    <tr>\n",
       "      <th>volatile acidity</th>\n",
       "      <td>3155.0</td>\n",
       "      <td>0.338929</td>\n",
       "      <td>0.162476</td>\n",
       "      <td>0.08000</td>\n",
       "      <td>0.23000</td>\n",
       "      <td>0.29000</td>\n",
       "      <td>0.4000</td>\n",
       "      <td>1.24000</td>\n",
       "    </tr>\n",
       "    <tr>\n",
       "      <th>citric acid</th>\n",
       "      <td>3155.0</td>\n",
       "      <td>0.321569</td>\n",
       "      <td>0.147970</td>\n",
       "      <td>0.00000</td>\n",
       "      <td>0.25000</td>\n",
       "      <td>0.31000</td>\n",
       "      <td>0.4000</td>\n",
       "      <td>1.66000</td>\n",
       "    </tr>\n",
       "    <tr>\n",
       "      <th>residual sugar</th>\n",
       "      <td>3155.0</td>\n",
       "      <td>5.155911</td>\n",
       "      <td>4.639632</td>\n",
       "      <td>0.60000</td>\n",
       "      <td>1.80000</td>\n",
       "      <td>2.80000</td>\n",
       "      <td>7.6500</td>\n",
       "      <td>65.80000</td>\n",
       "    </tr>\n",
       "    <tr>\n",
       "      <th>chlorides</th>\n",
       "      <td>3155.0</td>\n",
       "      <td>0.056976</td>\n",
       "      <td>0.036802</td>\n",
       "      <td>0.01200</td>\n",
       "      <td>0.03800</td>\n",
       "      <td>0.04700</td>\n",
       "      <td>0.0660</td>\n",
       "      <td>0.61100</td>\n",
       "    </tr>\n",
       "    <tr>\n",
       "      <th>free sulfur dioxide</th>\n",
       "      <td>3155.0</td>\n",
       "      <td>30.388590</td>\n",
       "      <td>17.236784</td>\n",
       "      <td>1.00000</td>\n",
       "      <td>17.00000</td>\n",
       "      <td>28.00000</td>\n",
       "      <td>41.0000</td>\n",
       "      <td>131.00000</td>\n",
       "    </tr>\n",
       "    <tr>\n",
       "      <th>total sulfur dioxide</th>\n",
       "      <td>3155.0</td>\n",
       "      <td>115.062282</td>\n",
       "      <td>56.706617</td>\n",
       "      <td>6.00000</td>\n",
       "      <td>75.00000</td>\n",
       "      <td>117.00000</td>\n",
       "      <td>156.0000</td>\n",
       "      <td>344.00000</td>\n",
       "    </tr>\n",
       "    <tr>\n",
       "      <th>density</th>\n",
       "      <td>3155.0</td>\n",
       "      <td>0.994633</td>\n",
       "      <td>0.003005</td>\n",
       "      <td>0.98711</td>\n",
       "      <td>0.99232</td>\n",
       "      <td>0.99481</td>\n",
       "      <td>0.9968</td>\n",
       "      <td>1.03898</td>\n",
       "    </tr>\n",
       "    <tr>\n",
       "      <th>pH</th>\n",
       "      <td>3155.0</td>\n",
       "      <td>3.223201</td>\n",
       "      <td>0.161272</td>\n",
       "      <td>2.72000</td>\n",
       "      <td>3.11000</td>\n",
       "      <td>3.21000</td>\n",
       "      <td>3.3300</td>\n",
       "      <td>4.01000</td>\n",
       "    </tr>\n",
       "    <tr>\n",
       "      <th>sulphates</th>\n",
       "      <td>3155.0</td>\n",
       "      <td>0.534051</td>\n",
       "      <td>0.149149</td>\n",
       "      <td>0.22000</td>\n",
       "      <td>0.43000</td>\n",
       "      <td>0.51000</td>\n",
       "      <td>0.6000</td>\n",
       "      <td>1.95000</td>\n",
       "    </tr>\n",
       "    <tr>\n",
       "      <th>alcohol</th>\n",
       "      <td>3155.0</td>\n",
       "      <td>10.504466</td>\n",
       "      <td>1.154654</td>\n",
       "      <td>8.50000</td>\n",
       "      <td>9.50000</td>\n",
       "      <td>10.30000</td>\n",
       "      <td>11.3000</td>\n",
       "      <td>14.00000</td>\n",
       "    </tr>\n",
       "  </tbody>\n",
       "</table>\n",
       "</div>"
      ],
      "text/plain": [
       "                       count        mean        std      min       25%  \\\n",
       "fixed acidity         3155.0    7.221616   1.325297  3.80000   6.40000   \n",
       "volatile acidity      3155.0    0.338929   0.162476  0.08000   0.23000   \n",
       "citric acid           3155.0    0.321569   0.147970  0.00000   0.25000   \n",
       "residual sugar        3155.0    5.155911   4.639632  0.60000   1.80000   \n",
       "chlorides             3155.0    0.056976   0.036802  0.01200   0.03800   \n",
       "free sulfur dioxide   3155.0   30.388590  17.236784  1.00000  17.00000   \n",
       "total sulfur dioxide  3155.0  115.062282  56.706617  6.00000  75.00000   \n",
       "density               3155.0    0.994633   0.003005  0.98711   0.99232   \n",
       "pH                    3155.0    3.223201   0.161272  2.72000   3.11000   \n",
       "sulphates             3155.0    0.534051   0.149149  0.22000   0.43000   \n",
       "alcohol               3155.0   10.504466   1.154654  8.50000   9.50000   \n",
       "\n",
       "                            50%       75%        max  \n",
       "fixed acidity           7.00000    7.7000   15.60000  \n",
       "volatile acidity        0.29000    0.4000    1.24000  \n",
       "citric acid             0.31000    0.4000    1.66000  \n",
       "residual sugar          2.80000    7.6500   65.80000  \n",
       "chlorides               0.04700    0.0660    0.61100  \n",
       "free sulfur dioxide    28.00000   41.0000  131.00000  \n",
       "total sulfur dioxide  117.00000  156.0000  344.00000  \n",
       "density                 0.99481    0.9968    1.03898  \n",
       "pH                      3.21000    3.3300    4.01000  \n",
       "sulphates               0.51000    0.6000    1.95000  \n",
       "alcohol                10.30000   11.3000   14.00000  "
      ]
     },
     "execution_count": 81,
     "metadata": {},
     "output_type": "execute_result"
    }
   ],
   "source": [
    "train_stats"
   ]
  },
  {
   "cell_type": "markdown",
   "metadata": {
    "colab_type": "text",
    "id": "bGPvt9jir_HC"
   },
   "source": [
    "### Get the labels (TODO)\n",
    "\n",
    "The features and labels are currently in the same dataframe.\n",
    "- You will want to store the label columns `is_red` and `quality` separately from the feature columns.  \n",
    "- The following function, `format_output`, gets these two columns from the dataframe (it's given to you).\n",
    "- `format_output` also formats the data into numpy arrays. \n",
    "- Please use the `format_output` and apply it to the `train`, `val` and `test` sets to get dataframes for the labels."
   ]
  },
  {
   "cell_type": "code",
   "execution_count": 82,
   "metadata": {
    "colab": {},
    "colab_type": "code",
    "id": "Z_fs14XQqZVP"
   },
   "outputs": [],
   "source": [
    "def format_output(data):\n",
    "    is_red = data.pop('is_red')\n",
    "    is_red = np.array(is_red)\n",
    "    quality = data.pop('quality')\n",
    "    quality = np.array(quality)\n",
    "    return (quality, is_red)"
   ]
  },
  {
   "cell_type": "code",
   "execution_count": 83,
   "metadata": {
    "colab": {},
    "colab_type": "code",
    "deletable": false,
    "id": "8L3ZZe1fQicm",
    "nbgrader": {
     "cell_type": "code",
     "checksum": "7a86809e54895a816434c48dc903f55d",
     "grade": false,
     "grade_id": "cell-5c30fa2c2a354b0f",
     "locked": false,
     "schema_version": 3,
     "solution": true,
     "task": false
    }
   },
   "outputs": [],
   "source": [
    "## Please uncomment all lines in this cell and replace those marked with `# YOUR CODE HERE`.\n",
    "## You can select all lines in this code cell with Ctrl+A (Windows/Linux) or Cmd+A (Mac), then press Ctrl+/ (Windows/Linux) or Cmd+/ (Mac) to uncomment.\n",
    "\n",
    "\n",
    "\n",
    "# # format the output of the train set\n",
    "train_Y = format_output(train)\n",
    "\n",
    "# # format the output of the val set\n",
    "val_Y = format_output(val)\n",
    "    \n",
    "# # format the output of the test set\n",
    "test_Y = format_output(test)"
   ]
  },
  {
   "cell_type": "code",
   "execution_count": 84,
   "metadata": {
    "deletable": false,
    "editable": false,
    "nbgrader": {
     "cell_type": "code",
     "checksum": "359cabbafaed14ec9bbc1e57a7b6f32c",
     "grade": true,
     "grade_id": "cell-4977d8befb80f56b",
     "locked": true,
     "points": 1,
     "schema_version": 3,
     "solution": false,
     "task": false
    }
   },
   "outputs": [
    {
     "name": "stdout",
     "output_type": "stream",
     "text": [
      "\u001b[92m All public tests passed\n"
     ]
    }
   ],
   "source": [
    "utils.test_format_output(df, train_Y, val_Y, test_Y)"
   ]
  },
  {
   "cell_type": "markdown",
   "metadata": {},
   "source": [
    "Notice that after you get the labels, the `train`, `val` and `test` dataframes no longer contain the label columns, and contain just the feature columns.\n",
    "- This is because you used `.pop` in the `format_output` function."
   ]
  },
  {
   "cell_type": "code",
   "execution_count": 85,
   "metadata": {},
   "outputs": [
    {
     "data": {
      "text/html": [
       "<div>\n",
       "<style scoped>\n",
       "    .dataframe tbody tr th:only-of-type {\n",
       "        vertical-align: middle;\n",
       "    }\n",
       "\n",
       "    .dataframe tbody tr th {\n",
       "        vertical-align: top;\n",
       "    }\n",
       "\n",
       "    .dataframe thead th {\n",
       "        text-align: right;\n",
       "    }\n",
       "</style>\n",
       "<table border=\"1\" class=\"dataframe\">\n",
       "  <thead>\n",
       "    <tr style=\"text-align: right;\">\n",
       "      <th></th>\n",
       "      <th>fixed acidity</th>\n",
       "      <th>volatile acidity</th>\n",
       "      <th>citric acid</th>\n",
       "      <th>residual sugar</th>\n",
       "      <th>chlorides</th>\n",
       "      <th>free sulfur dioxide</th>\n",
       "      <th>total sulfur dioxide</th>\n",
       "      <th>density</th>\n",
       "      <th>pH</th>\n",
       "      <th>sulphates</th>\n",
       "      <th>alcohol</th>\n",
       "    </tr>\n",
       "  </thead>\n",
       "  <tbody>\n",
       "    <tr>\n",
       "      <th>225</th>\n",
       "      <td>7.5</td>\n",
       "      <td>0.65</td>\n",
       "      <td>0.18</td>\n",
       "      <td>7.0</td>\n",
       "      <td>0.088</td>\n",
       "      <td>27.0</td>\n",
       "      <td>94.0</td>\n",
       "      <td>0.99915</td>\n",
       "      <td>3.38</td>\n",
       "      <td>0.77</td>\n",
       "      <td>9.4</td>\n",
       "    </tr>\n",
       "    <tr>\n",
       "      <th>3557</th>\n",
       "      <td>6.3</td>\n",
       "      <td>0.27</td>\n",
       "      <td>0.29</td>\n",
       "      <td>12.2</td>\n",
       "      <td>0.044</td>\n",
       "      <td>59.0</td>\n",
       "      <td>196.0</td>\n",
       "      <td>0.99782</td>\n",
       "      <td>3.14</td>\n",
       "      <td>0.40</td>\n",
       "      <td>8.8</td>\n",
       "    </tr>\n",
       "    <tr>\n",
       "      <th>3825</th>\n",
       "      <td>8.8</td>\n",
       "      <td>0.27</td>\n",
       "      <td>0.25</td>\n",
       "      <td>5.0</td>\n",
       "      <td>0.024</td>\n",
       "      <td>52.0</td>\n",
       "      <td>99.0</td>\n",
       "      <td>0.99250</td>\n",
       "      <td>2.87</td>\n",
       "      <td>0.49</td>\n",
       "      <td>11.4</td>\n",
       "    </tr>\n",
       "    <tr>\n",
       "      <th>1740</th>\n",
       "      <td>6.4</td>\n",
       "      <td>0.45</td>\n",
       "      <td>0.07</td>\n",
       "      <td>1.1</td>\n",
       "      <td>0.030</td>\n",
       "      <td>10.0</td>\n",
       "      <td>131.0</td>\n",
       "      <td>0.99050</td>\n",
       "      <td>2.97</td>\n",
       "      <td>0.28</td>\n",
       "      <td>10.8</td>\n",
       "    </tr>\n",
       "    <tr>\n",
       "      <th>1221</th>\n",
       "      <td>7.2</td>\n",
       "      <td>0.53</td>\n",
       "      <td>0.13</td>\n",
       "      <td>2.0</td>\n",
       "      <td>0.058</td>\n",
       "      <td>18.0</td>\n",
       "      <td>22.0</td>\n",
       "      <td>0.99573</td>\n",
       "      <td>3.21</td>\n",
       "      <td>0.68</td>\n",
       "      <td>9.9</td>\n",
       "    </tr>\n",
       "  </tbody>\n",
       "</table>\n",
       "</div>"
      ],
      "text/plain": [
       "      fixed acidity  volatile acidity  citric acid  residual sugar  chlorides  \\\n",
       "225             7.5              0.65         0.18             7.0      0.088   \n",
       "3557            6.3              0.27         0.29            12.2      0.044   \n",
       "3825            8.8              0.27         0.25             5.0      0.024   \n",
       "1740            6.4              0.45         0.07             1.1      0.030   \n",
       "1221            7.2              0.53         0.13             2.0      0.058   \n",
       "\n",
       "      free sulfur dioxide  total sulfur dioxide  density    pH  sulphates  \\\n",
       "225                  27.0                  94.0  0.99915  3.38       0.77   \n",
       "3557                 59.0                 196.0  0.99782  3.14       0.40   \n",
       "3825                 52.0                  99.0  0.99250  2.87       0.49   \n",
       "1740                 10.0                 131.0  0.99050  2.97       0.28   \n",
       "1221                 18.0                  22.0  0.99573  3.21       0.68   \n",
       "\n",
       "      alcohol  \n",
       "225       9.4  \n",
       "3557      8.8  \n",
       "3825     11.4  \n",
       "1740     10.8  \n",
       "1221      9.9  "
      ]
     },
     "execution_count": 85,
     "metadata": {},
     "output_type": "execute_result"
    }
   ],
   "source": [
    "train.head()"
   ]
  },
  {
   "cell_type": "markdown",
   "metadata": {
    "colab_type": "text",
    "id": "hEdbrruAsN1D"
   },
   "source": [
    "### Normalize the data (TODO)\n",
    "\n",
    "Next, you can normalize the data, x, using the formula:\n",
    "$$x_{norm} = \\frac{x - \\mu}{\\sigma}$$\n",
    "- The `norm` function is defined for you.\n",
    "- Please apply the `norm` function to normalize the dataframes that contains the feature columns of `train`, `val` and `test` sets."
   ]
  },
  {
   "cell_type": "code",
   "execution_count": 86,
   "metadata": {
    "colab": {},
    "colab_type": "code",
    "id": "WWiZPAHCLjUs"
   },
   "outputs": [],
   "source": [
    "def norm(x):\n",
    "    return (x - train_stats['mean']) / train_stats['std']"
   ]
  },
  {
   "cell_type": "code",
   "execution_count": 87,
   "metadata": {
    "colab": {},
    "colab_type": "code",
    "deletable": false,
    "id": "JEaOi2I2Lk69",
    "nbgrader": {
     "cell_type": "code",
     "checksum": "6bc0cdcb563d192f271067aa3373ff32",
     "grade": false,
     "grade_id": "cell-d8416d975c371095",
     "locked": false,
     "schema_version": 3,
     "solution": true,
     "task": false
    }
   },
   "outputs": [],
   "source": [
    "## Please uncomment all lines in this cell and replace those marked with `# YOUR CODE HERE`.\n",
    "## You can select all lines in this code cell with Ctrl+A (Windows/Linux) or Cmd+A (Mac), then press Ctrl+/ (Windows/Linux) or Cmd+/ (Mac) to uncomment.\n",
    "\n",
    "\n",
    "\n",
    "# # normalize the train set\n",
    "norm_train_X = norm(train)\n",
    "    \n",
    "# # normalize the val set\n",
    "norm_val_X = norm(val)\n",
    "    \n",
    "# # normalize the test set\n",
    "norm_test_X = norm(test)"
   ]
  },
  {
   "cell_type": "code",
   "execution_count": 88,
   "metadata": {
    "deletable": false,
    "editable": false,
    "nbgrader": {
     "cell_type": "code",
     "checksum": "4f567db45bf40191601780379cc100b8",
     "grade": true,
     "grade_id": "cell-97fad979d157529b",
     "locked": true,
     "points": 1,
     "schema_version": 3,
     "solution": false,
     "task": false
    }
   },
   "outputs": [
    {
     "name": "stdout",
     "output_type": "stream",
     "text": [
      "\u001b[92m All public tests passed\n"
     ]
    }
   ],
   "source": [
    "utils.test_norm(norm_train_X, norm_val_X, norm_test_X, train, val, test)\n"
   ]
  },
  {
   "cell_type": "markdown",
   "metadata": {
    "colab_type": "text",
    "id": "hzykDwQhsaPO"
   },
   "source": [
    "## Define the Model (TODO)\n",
    "\n",
    "Define the model using the functional API. The base model will be 2 `Dense` layers of 128 neurons each, and have the `'relu'` activation.\n",
    "- Check out the documentation for [tf.keras.layers.Dense](https://www.tensorflow.org/api_docs/python/tf/keras/layers/Dense)"
   ]
  },
  {
   "cell_type": "code",
   "execution_count": 89,
   "metadata": {
    "colab": {},
    "colab_type": "code",
    "deletable": false,
    "id": "Rhcns3oTFkM6",
    "nbgrader": {
     "cell_type": "code",
     "checksum": "74b031247e569526552bf13a034a1c07",
     "grade": false,
     "grade_id": "cell-73fceedad1fe351c",
     "locked": false,
     "schema_version": 3,
     "solution": true,
     "task": false
    }
   },
   "outputs": [],
   "source": [
    "## Please uncomment all lines in this cell and replace those marked with `# YOUR CODE HERE`.\n",
    "## You can select all lines in this code cell with Ctrl+A (Windows/Linux) or Cmd+A (Mac), then press Ctrl+/ (Windows/Linux) or Cmd+/ (Mac) to uncomment.\n",
    "\n",
    "\n",
    "\n",
    "def base_model(inputs):\n",
    "    # connect a Dense layer with 128 neurons and a relu activation\n",
    "    x = Dense(units=128, activation='relu')(inputs)\n",
    "    \n",
    "    # connect another Dense layer with 128 neurons and a relu activation\n",
    "    x = Dense(units=128, activation='relu')(x)\n",
    "    return x\n",
    "  "
   ]
  },
  {
   "cell_type": "code",
   "execution_count": 54,
   "metadata": {
    "deletable": false,
    "editable": false,
    "nbgrader": {
     "cell_type": "code",
     "checksum": "9255924b3def80f679616e4c851a43e1",
     "grade": true,
     "grade_id": "cell-54f742a133353d75",
     "locked": true,
     "points": 1,
     "schema_version": 3,
     "solution": false,
     "task": false
    }
   },
   "outputs": [
    {
     "name": "stdout",
     "output_type": "stream",
     "text": [
      "\u001b[92m All public tests passed\n"
     ]
    }
   ],
   "source": [
    "utils.test_base_model(base_model)"
   ]
  },
  {
   "cell_type": "markdown",
   "metadata": {
    "colab_type": "text",
    "id": "xem_fcVws6Kz"
   },
   "source": [
    "# Define output layers of the model (TODO)\n",
    "\n",
    "You will add output layers to the base model. \n",
    "- The model will need two outputs.\n",
    "\n",
    "One output layer will predict wine quality, which is a numeric value.\n",
    "- Define a `Dense` layer with 1 neuron.\n",
    "- Since this is a regression output, the activation can be left as its default value `None`.\n",
    "\n",
    "The other output layer will predict the wine type, which is either red `1` or not red `0` (white).\n",
    "- Define a `Dense` layer with 1 neuron.\n",
    "- Since there are two possible categories, you can use a sigmoid activation for binary classification.\n",
    "\n",
    "Define the `Model`\n",
    "- Define the `Model` object, and set the following parameters:\n",
    "  - `inputs`: pass in the inputs to the model as a list.\n",
    "  - `outputs`: pass in a list of the outputs that you just defined: wine quality, then wine type.\n",
    "  - **Note**: please list the wine quality before wine type in the outputs, as this will affect the calculated loss if you choose the other order."
   ]
  },
  {
   "cell_type": "code",
   "execution_count": 100,
   "metadata": {
    "colab": {},
    "colab_type": "code",
    "deletable": false,
    "id": "n5UGF8PMVLPt",
    "nbgrader": {
     "cell_type": "code",
     "checksum": "76d35b90d20cdcbb22986cd8211057de",
     "grade": false,
     "grade_id": "cell-19e285f482f021fb",
     "locked": false,
     "schema_version": 3,
     "solution": true,
     "task": false
    }
   },
   "outputs": [],
   "source": [
    "## Please uncomment all lines in this cell and replace those marked with `# YOUR CODE HERE`.\n",
    "## You can select all lines in this code cell with Ctrl+A (Windows/Linux) or Cmd+A (Mac), then press Ctrl+/ (Windows/Linux) or Cmd+/ (Mac) to uncomment.\n",
    "\n",
    "\n",
    "\n",
    "def final_model(inputs):\n",
    "    x = base_model(inputs)\n",
    "\n",
    "    # connect the output Dense layer for regression\n",
    "    wine_quality = Dense(units='1', name='wine_quality')(x)\n",
    "\n",
    "    # connect the output Dense layer for classification. this will use a sigmoid activation.\n",
    "    wine_type = Dense(units='1', activation='sigmoid', name='wine_type')(x)\n",
    "\n",
    "    # define the model using the input and output layers\n",
    "    model = Model(inputs=[inputs], outputs=[wine_quality, wine_type])\n",
    "    \n",
    "    return model"
   ]
  },
  {
   "cell_type": "code",
   "execution_count": 101,
   "metadata": {
    "deletable": false,
    "editable": false,
    "nbgrader": {
     "cell_type": "code",
     "checksum": "89cbf89d8ab5e2e59ecf7f63f517520a",
     "grade": true,
     "grade_id": "cell-40d050f855c817d1",
     "locked": true,
     "points": 1,
     "schema_version": 3,
     "solution": false,
     "task": false
    }
   },
   "outputs": [
    {
     "name": "stdout",
     "output_type": "stream",
     "text": [
      "\u001b[92m All public tests passed\n"
     ]
    }
   ],
   "source": [
    "utils.test_final_model(final_model)"
   ]
  },
  {
   "cell_type": "markdown",
   "metadata": {
    "colab_type": "text",
    "id": "5R0BMTsltZyu"
   },
   "source": [
    "## Compiling the Model\n",
    "\n",
    "Next, compile the model. When setting the loss parameter of `model.compile`, you're setting the loss for each of the two outputs (wine quality and wine type).\n",
    "\n",
    "To set more than one loss, use a dictionary of key-value pairs.\n",
    "- You can look at the docs for the losses [here](https://www.tensorflow.org/api_docs/python/tf/keras/losses#functions).\n",
    "    - **Note**: For the desired spelling, please look at the \"Functions\" section of the documentation and not the \"classes\" section on that same page.\n",
    "- wine_type: Since you will be performing binary classification on wine type, you should use the binary crossentropy loss function for it.  Please pass this in as a string.  \n",
    "  - **Hint**, this should be all lowercase.  In the documentation, you'll see this under the \"Functions\" section, not the \"Classes\" section.\n",
    "- wine_quality: since this is a regression output, use the mean squared error.  Please pass it in as a string, all lowercase.\n",
    "  - **Hint**: You may notice that there are two aliases for mean squared error.  Please use the shorter name.\n",
    "\n",
    "\n",
    "You will also set the metric for each of the two outputs.  Again, to set metrics for two or more outputs, use a dictionary with key value pairs.\n",
    "- The metrics documentation is linked [here](https://www.tensorflow.org/api_docs/python/tf/keras/metrics).\n",
    "- For the wine type, please set it to accuracy as a string, all lowercase.\n",
    "- For wine quality, please use the root mean squared error.  Instead of a string, you'll set it to an instance of the class [RootMeanSquaredError](https://www.tensorflow.org/api_docs/python/tf/keras/metrics/RootMeanSquaredError), which belongs to the tf.keras.metrics module.\n",
    "\n",
    "**Note**: If you see the error message \n",
    ">Exception: wine quality loss function is incorrect.\n",
    "\n",
    "- Please also check your other losses and metrics, as the error may be caused by the other three key-value pairs and not the wine quality loss."
   ]
  },
  {
   "cell_type": "code",
   "execution_count": 118,
   "metadata": {
    "colab": {},
    "colab_type": "code",
    "deletable": false,
    "id": "LK11duUbUjmh",
    "nbgrader": {
     "cell_type": "code",
     "checksum": "22f45067ca69eb2ccadb43874dbcc27b",
     "grade": false,
     "grade_id": "cell-81afdc4dcca51d5e",
     "locked": false,
     "schema_version": 3,
     "solution": true,
     "task": false
    }
   },
   "outputs": [],
   "source": [
    "## Please uncomment all lines in this cell and replace those marked with `# YOUR CODE HERE`.\n",
    "## You can select all lines in this code cell with Ctrl+A (Windows/Linux) or Cmd+A (Mac), then press Ctrl+/ (Windows/Linux) or Cmd+/ (Mac) to uncomment.\n",
    "\n",
    "\n",
    "\n",
    "inputs = tf.keras.layers.Input(shape=(11,))\n",
    "rms = tf.keras.optimizers.RMSprop(lr=0.0001)\n",
    "model = final_model(inputs)\n",
    "\n",
    "model.compile(optimizer=rms, \n",
    "               loss = {'wine_type' : 'binary_crossentropy',\n",
    "                       'wine_quality' : 'mse'\n",
    "                      },\n",
    "               metrics = {'wine_type' : 'accuracy',\n",
    "                          'wine_quality': tf.keras.metrics.RootMeanSquaredError()\n",
    "                        }\n",
    "              )\n"
   ]
  },
  {
   "cell_type": "code",
   "execution_count": 119,
   "metadata": {
    "deletable": false,
    "editable": false,
    "nbgrader": {
     "cell_type": "code",
     "checksum": "88e02238ea5e456ff65e835cc8158054",
     "grade": true,
     "grade_id": "cell-2eeeba02391c4632",
     "locked": true,
     "points": 1,
     "schema_version": 3,
     "solution": false,
     "task": false
    }
   },
   "outputs": [
    {
     "name": "stdout",
     "output_type": "stream",
     "text": [
      "\u001b[92m All public tests passed\n"
     ]
    }
   ],
   "source": [
    "utils.test_model_compile(model)"
   ]
  },
  {
   "cell_type": "markdown",
   "metadata": {
    "colab_type": "text",
    "id": "90MpAMpWuKm-"
   },
   "source": [
    "## Training the Model (TODO)\n",
    "\n",
    "Fit the model to the training inputs and outputs. \n",
    "- Check the documentation for [model.fit](https://www.tensorflow.org/api_docs/python/tf/keras/Model#fit).\n",
    "- Remember to use the normalized training set as inputs. \n",
    "- For the validation data, please use the normalized validation set.\n",
    "\n",
    "**Important: Please do not increase the number of epochs below. This is to avoid the grader from timing out. You can increase it once you have submitted your work.**"
   ]
  },
  {
   "cell_type": "code",
   "execution_count": 134,
   "metadata": {
    "colab": {},
    "colab_type": "code",
    "deletable": false,
    "id": "_eiZkle4XwiY",
    "nbgrader": {
     "cell_type": "code",
     "checksum": "d1a4565296017a0611c6f2de675f96cf",
     "grade": false,
     "grade_id": "cell-0bb56262896f6680",
     "locked": false,
     "schema_version": 3,
     "solution": true,
     "task": false
    }
   },
   "outputs": [
    {
     "name": "stdout",
     "output_type": "stream",
     "text": [
      "Train on 3155 samples, validate on 789 samples\n",
      "Epoch 1/100\n",
      "3155/3155 [==============================] - 0s 84us/sample - loss: 0.6527 - wine_quality_loss: 0.4848 - wine_type_loss: 0.1701 - wine_quality_root_mean_squared_error: 0.6947 - wine_type_accuracy: 0.9420 - val_loss: 1.0353 - val_wine_quality_loss: 0.8805 - val_wine_type_loss: 0.1585 - val_wine_quality_root_mean_squared_error: 0.9366 - val_wine_type_accuracy: 0.9417\n",
      "Epoch 2/100\n",
      "3155/3155 [==============================] - 0s 97us/sample - loss: 0.6394 - wine_quality_loss: 0.4696 - wine_type_loss: 0.1690 - wine_quality_root_mean_squared_error: 0.6858 - wine_type_accuracy: 0.9410 - val_loss: 0.5257 - val_wine_quality_loss: 0.3670 - val_wine_type_loss: 0.1584 - val_wine_quality_root_mean_squared_error: 0.6065 - val_wine_type_accuracy: 0.9366\n",
      "Epoch 3/100\n",
      "3155/3155 [==============================] - 0s 96us/sample - loss: 0.6373 - wine_quality_loss: 0.4683 - wine_type_loss: 0.1683 - wine_quality_root_mean_squared_error: 0.6846 - wine_type_accuracy: 0.9417 - val_loss: 0.5299 - val_wine_quality_loss: 0.3706 - val_wine_type_loss: 0.1593 - val_wine_quality_root_mean_squared_error: 0.6091 - val_wine_type_accuracy: 0.9366\n",
      "Epoch 4/100\n",
      "3155/3155 [==============================] - 0s 96us/sample - loss: 0.6324 - wine_quality_loss: 0.4674 - wine_type_loss: 0.1680 - wine_quality_root_mean_squared_error: 0.6817 - wine_type_accuracy: 0.9420 - val_loss: 0.9114 - val_wine_quality_loss: 0.7575 - val_wine_type_loss: 0.1569 - val_wine_quality_root_mean_squared_error: 0.8689 - val_wine_type_accuracy: 0.9417\n",
      "Epoch 5/100\n",
      "3155/3155 [==============================] - 0s 112us/sample - loss: 0.6504 - wine_quality_loss: 0.4840 - wine_type_loss: 0.1668 - wine_quality_root_mean_squared_error: 0.6957 - wine_type_accuracy: 0.9420 - val_loss: 0.6021 - val_wine_quality_loss: 0.4445 - val_wine_type_loss: 0.1564 - val_wine_quality_root_mean_squared_error: 0.6679 - val_wine_type_accuracy: 0.9404\n",
      "Epoch 6/100\n",
      "3155/3155 [==============================] - 0s 95us/sample - loss: 0.6377 - wine_quality_loss: 0.4728 - wine_type_loss: 0.1658 - wine_quality_root_mean_squared_error: 0.6871 - wine_type_accuracy: 0.9423 - val_loss: 0.5398 - val_wine_quality_loss: 0.3861 - val_wine_type_loss: 0.1540 - val_wine_quality_root_mean_squared_error: 0.6215 - val_wine_type_accuracy: 0.9468\n",
      "Epoch 7/100\n",
      "3155/3155 [==============================] - 0s 97us/sample - loss: 0.6306 - wine_quality_loss: 0.4680 - wine_type_loss: 0.1643 - wine_quality_root_mean_squared_error: 0.6831 - wine_type_accuracy: 0.9429 - val_loss: 0.5539 - val_wine_quality_loss: 0.3993 - val_wine_type_loss: 0.1537 - val_wine_quality_root_mean_squared_error: 0.6330 - val_wine_type_accuracy: 0.9455\n",
      "Epoch 8/100\n",
      "3155/3155 [==============================] - 0s 97us/sample - loss: 0.6371 - wine_quality_loss: 0.4733 - wine_type_loss: 0.1639 - wine_quality_root_mean_squared_error: 0.6874 - wine_type_accuracy: 0.9423 - val_loss: 0.9173 - val_wine_quality_loss: 0.7645 - val_wine_type_loss: 0.1554 - val_wine_quality_root_mean_squared_error: 0.8731 - val_wine_type_accuracy: 0.9404\n",
      "Epoch 9/100\n",
      "3155/3155 [==============================] - 0s 95us/sample - loss: 0.6159 - wine_quality_loss: 0.4525 - wine_type_loss: 0.1626 - wine_quality_root_mean_squared_error: 0.6730 - wine_type_accuracy: 0.9420 - val_loss: 0.5767 - val_wine_quality_loss: 0.4220 - val_wine_type_loss: 0.1535 - val_wine_quality_root_mean_squared_error: 0.6508 - val_wine_type_accuracy: 0.9430\n",
      "Epoch 10/100\n",
      "3155/3155 [==============================] - 0s 98us/sample - loss: 0.6284 - wine_quality_loss: 0.4662 - wine_type_loss: 0.1617 - wine_quality_root_mean_squared_error: 0.6834 - wine_type_accuracy: 0.9426 - val_loss: 0.5165 - val_wine_quality_loss: 0.3616 - val_wine_type_loss: 0.1546 - val_wine_quality_root_mean_squared_error: 0.6019 - val_wine_type_accuracy: 0.9417\n",
      "Epoch 11/100\n",
      "3155/3155 [==============================] - 0s 98us/sample - loss: 0.6330 - wine_quality_loss: 0.4707 - wine_type_loss: 0.1616 - wine_quality_root_mean_squared_error: 0.6865 - wine_type_accuracy: 0.9442 - val_loss: 0.5823 - val_wine_quality_loss: 0.4306 - val_wine_type_loss: 0.1505 - val_wine_quality_root_mean_squared_error: 0.6575 - val_wine_type_accuracy: 0.9480\n",
      "Epoch 12/100\n",
      "3155/3155 [==============================] - 0s 96us/sample - loss: 0.6138 - wine_quality_loss: 0.4524 - wine_type_loss: 0.1610 - wine_quality_root_mean_squared_error: 0.6729 - wine_type_accuracy: 0.9436 - val_loss: 0.5309 - val_wine_quality_loss: 0.3742 - val_wine_type_loss: 0.1558 - val_wine_quality_root_mean_squared_error: 0.6128 - val_wine_type_accuracy: 0.9366\n",
      "Epoch 13/100\n",
      "3155/3155 [==============================] - 0s 97us/sample - loss: 0.6305 - wine_quality_loss: 0.4692 - wine_type_loss: 0.1609 - wine_quality_root_mean_squared_error: 0.6855 - wine_type_accuracy: 0.9426 - val_loss: 0.5812 - val_wine_quality_loss: 0.4300 - val_wine_type_loss: 0.1519 - val_wine_quality_root_mean_squared_error: 0.6556 - val_wine_type_accuracy: 0.9518\n",
      "Epoch 14/100\n",
      "3155/3155 [==============================] - 0s 113us/sample - loss: 0.6265 - wine_quality_loss: 0.4663 - wine_type_loss: 0.1592 - wine_quality_root_mean_squared_error: 0.6835 - wine_type_accuracy: 0.9445 - val_loss: 0.5233 - val_wine_quality_loss: 0.3692 - val_wine_type_loss: 0.1541 - val_wine_quality_root_mean_squared_error: 0.6079 - val_wine_type_accuracy: 0.9379\n",
      "Epoch 15/100\n",
      "3155/3155 [==============================] - 0s 95us/sample - loss: 0.6171 - wine_quality_loss: 0.4596 - wine_type_loss: 0.1584 - wine_quality_root_mean_squared_error: 0.6772 - wine_type_accuracy: 0.9439 - val_loss: 1.0871 - val_wine_quality_loss: 0.9370 - val_wine_type_loss: 0.1485 - val_wine_quality_root_mean_squared_error: 0.9690 - val_wine_type_accuracy: 0.9468\n",
      "Epoch 16/100\n",
      "3155/3155 [==============================] - 0s 96us/sample - loss: 0.6207 - wine_quality_loss: 0.4638 - wine_type_loss: 0.1574 - wine_quality_root_mean_squared_error: 0.6806 - wine_type_accuracy: 0.9452 - val_loss: 0.5128 - val_wine_quality_loss: 0.3605 - val_wine_type_loss: 0.1519 - val_wine_quality_root_mean_squared_error: 0.6010 - val_wine_type_accuracy: 0.9417\n",
      "Epoch 17/100\n",
      "3155/3155 [==============================] - 0s 97us/sample - loss: 0.6041 - wine_quality_loss: 0.4473 - wine_type_loss: 0.1569 - wine_quality_root_mean_squared_error: 0.6690 - wine_type_accuracy: 0.9455 - val_loss: 0.5671 - val_wine_quality_loss: 0.4154 - val_wine_type_loss: 0.1524 - val_wine_quality_root_mean_squared_error: 0.6442 - val_wine_type_accuracy: 0.9404\n",
      "Epoch 18/100\n",
      "3155/3155 [==============================] - 0s 96us/sample - loss: 0.6152 - wine_quality_loss: 0.4594 - wine_type_loss: 0.1567 - wine_quality_root_mean_squared_error: 0.6774 - wine_type_accuracy: 0.9436 - val_loss: 0.5391 - val_wine_quality_loss: 0.3922 - val_wine_type_loss: 0.1471 - val_wine_quality_root_mean_squared_error: 0.6264 - val_wine_type_accuracy: 0.9493\n",
      "Epoch 19/100\n",
      "3155/3155 [==============================] - 0s 95us/sample - loss: 0.6176 - wine_quality_loss: 0.4611 - wine_type_loss: 0.1556 - wine_quality_root_mean_squared_error: 0.6794 - wine_type_accuracy: 0.9442 - val_loss: 0.5248 - val_wine_quality_loss: 0.3766 - val_wine_type_loss: 0.1471 - val_wine_quality_root_mean_squared_error: 0.6148 - val_wine_type_accuracy: 0.9442\n",
      "Epoch 20/100\n",
      "3155/3155 [==============================] - 0s 98us/sample - loss: 0.5891 - wine_quality_loss: 0.4336 - wine_type_loss: 0.1552 - wine_quality_root_mean_squared_error: 0.6589 - wine_type_accuracy: 0.9420 - val_loss: 0.6815 - val_wine_quality_loss: 0.5301 - val_wine_type_loss: 0.1498 - val_wine_quality_root_mean_squared_error: 0.7294 - val_wine_type_accuracy: 0.9430\n",
      "Epoch 21/100\n",
      "3155/3155 [==============================] - 0s 97us/sample - loss: 0.6312 - wine_quality_loss: 0.4771 - wine_type_loss: 0.1539 - wine_quality_root_mean_squared_error: 0.6909 - wine_type_accuracy: 0.9455 - val_loss: 0.5044 - val_wine_quality_loss: 0.3566 - val_wine_type_loss: 0.1470 - val_wine_quality_root_mean_squared_error: 0.5981 - val_wine_type_accuracy: 0.9442\n",
      "Epoch 22/100\n",
      "3155/3155 [==============================] - 0s 97us/sample - loss: 0.6085 - wine_quality_loss: 0.4567 - wine_type_loss: 0.1520 - wine_quality_root_mean_squared_error: 0.6754 - wine_type_accuracy: 0.9442 - val_loss: 1.0244 - val_wine_quality_loss: 0.8776 - val_wine_type_loss: 0.1445 - val_wine_quality_root_mean_squared_error: 0.9382 - val_wine_type_accuracy: 0.9455\n",
      "Epoch 23/100\n",
      "3155/3155 [==============================] - 0s 95us/sample - loss: 0.6182 - wine_quality_loss: 0.4650 - wine_type_loss: 0.1532 - wine_quality_root_mean_squared_error: 0.6819 - wine_type_accuracy: 0.9429 - val_loss: 1.0948 - val_wine_quality_loss: 0.9548 - val_wine_type_loss: 0.1436 - val_wine_quality_root_mean_squared_error: 0.9754 - val_wine_type_accuracy: 0.9468\n",
      "Epoch 24/100\n",
      "3155/3155 [==============================] - 0s 96us/sample - loss: 0.6094 - wine_quality_loss: 0.4572 - wine_type_loss: 0.1520 - wine_quality_root_mean_squared_error: 0.6763 - wine_type_accuracy: 0.9458 - val_loss: 0.5901 - val_wine_quality_loss: 0.4465 - val_wine_type_loss: 0.1419 - val_wine_quality_root_mean_squared_error: 0.6697 - val_wine_type_accuracy: 0.9480\n",
      "Epoch 25/100\n",
      "3155/3155 [==============================] - 0s 112us/sample - loss: 0.6119 - wine_quality_loss: 0.4608 - wine_type_loss: 0.1510 - wine_quality_root_mean_squared_error: 0.6789 - wine_type_accuracy: 0.9458 - val_loss: 0.5429 - val_wine_quality_loss: 0.4018 - val_wine_type_loss: 0.1414 - val_wine_quality_root_mean_squared_error: 0.6339 - val_wine_type_accuracy: 0.9493\n",
      "Epoch 26/100\n",
      "3155/3155 [==============================] - 0s 97us/sample - loss: 0.5950 - wine_quality_loss: 0.4457 - wine_type_loss: 0.1506 - wine_quality_root_mean_squared_error: 0.6668 - wine_type_accuracy: 0.9452 - val_loss: 0.6900 - val_wine_quality_loss: 0.5484 - val_wine_type_loss: 0.1396 - val_wine_quality_root_mean_squared_error: 0.7421 - val_wine_type_accuracy: 0.9493\n",
      "Epoch 27/100\n",
      "3155/3155 [==============================] - 0s 97us/sample - loss: 0.6000 - wine_quality_loss: 0.4513 - wine_type_loss: 0.1496 - wine_quality_root_mean_squared_error: 0.6713 - wine_type_accuracy: 0.9461 - val_loss: 0.6713 - val_wine_quality_loss: 0.5267 - val_wine_type_loss: 0.1427 - val_wine_quality_root_mean_squared_error: 0.7273 - val_wine_type_accuracy: 0.9531\n",
      "Epoch 28/100\n",
      "3155/3155 [==============================] - 0s 95us/sample - loss: 0.6073 - wine_quality_loss: 0.4592 - wine_type_loss: 0.1480 - wine_quality_root_mean_squared_error: 0.6776 - wine_type_accuracy: 0.9468 - val_loss: 0.5403 - val_wine_quality_loss: 0.3938 - val_wine_type_loss: 0.1451 - val_wine_quality_root_mean_squared_error: 0.6288 - val_wine_type_accuracy: 0.9480\n",
      "Epoch 29/100\n",
      "3155/3155 [==============================] - 0s 94us/sample - loss: 0.5985 - wine_quality_loss: 0.4498 - wine_type_loss: 0.1487 - wine_quality_root_mean_squared_error: 0.6703 - wine_type_accuracy: 0.9458 - val_loss: 0.5463 - val_wine_quality_loss: 0.4035 - val_wine_type_loss: 0.1414 - val_wine_quality_root_mean_squared_error: 0.6365 - val_wine_type_accuracy: 0.9480\n",
      "Epoch 30/100\n",
      "3155/3155 [==============================] - 0s 100us/sample - loss: 0.6079 - wine_quality_loss: 0.4602 - wine_type_loss: 0.1470 - wine_quality_root_mean_squared_error: 0.6785 - wine_type_accuracy: 0.9455 - val_loss: 0.5085 - val_wine_quality_loss: 0.3660 - val_wine_type_loss: 0.1415 - val_wine_quality_root_mean_squared_error: 0.6060 - val_wine_type_accuracy: 0.9480\n",
      "Epoch 31/100\n",
      "3155/3155 [==============================] - 0s 96us/sample - loss: 0.5943 - wine_quality_loss: 0.4477 - wine_type_loss: 0.1467 - wine_quality_root_mean_squared_error: 0.6692 - wine_type_accuracy: 0.9455 - val_loss: 0.6313 - val_wine_quality_loss: 0.4937 - val_wine_type_loss: 0.1385 - val_wine_quality_root_mean_squared_error: 0.7021 - val_wine_type_accuracy: 0.9480\n",
      "Epoch 32/100\n",
      "3155/3155 [==============================] - 0s 98us/sample - loss: 0.6026 - wine_quality_loss: 0.4567 - wine_type_loss: 0.1457 - wine_quality_root_mean_squared_error: 0.6760 - wine_type_accuracy: 0.9455 - val_loss: 0.5261 - val_wine_quality_loss: 0.3887 - val_wine_type_loss: 0.1361 - val_wine_quality_root_mean_squared_error: 0.6247 - val_wine_type_accuracy: 0.9506\n",
      "Epoch 33/100\n",
      "3155/3155 [==============================] - 0s 114us/sample - loss: 0.5923 - wine_quality_loss: 0.4466 - wine_type_loss: 0.1449 - wine_quality_root_mean_squared_error: 0.6689 - wine_type_accuracy: 0.9464 - val_loss: 0.4984 - val_wine_quality_loss: 0.3621 - val_wine_type_loss: 0.1359 - val_wine_quality_root_mean_squared_error: 0.6022 - val_wine_type_accuracy: 0.9506\n",
      "Epoch 34/100\n",
      "3155/3155 [==============================] - 0s 96us/sample - loss: 0.5974 - wine_quality_loss: 0.4528 - wine_type_loss: 0.1447 - wine_quality_root_mean_squared_error: 0.6733 - wine_type_accuracy: 0.9477 - val_loss: 0.5196 - val_wine_quality_loss: 0.3839 - val_wine_type_loss: 0.1357 - val_wine_quality_root_mean_squared_error: 0.6199 - val_wine_type_accuracy: 0.9556\n",
      "Epoch 35/100\n",
      "3155/3155 [==============================] - 0s 97us/sample - loss: 0.6047 - wine_quality_loss: 0.4606 - wine_type_loss: 0.1437 - wine_quality_root_mean_squared_error: 0.6788 - wine_type_accuracy: 0.9461 - val_loss: 0.5236 - val_wine_quality_loss: 0.3885 - val_wine_type_loss: 0.1338 - val_wine_quality_root_mean_squared_error: 0.6245 - val_wine_type_accuracy: 0.9518\n",
      "Epoch 36/100\n",
      "3155/3155 [==============================] - 0s 101us/sample - loss: 0.5906 - wine_quality_loss: 0.4477 - wine_type_loss: 0.1430 - wine_quality_root_mean_squared_error: 0.6691 - wine_type_accuracy: 0.9464 - val_loss: 0.5565 - val_wine_quality_loss: 0.4220 - val_wine_type_loss: 0.1329 - val_wine_quality_root_mean_squared_error: 0.6509 - val_wine_type_accuracy: 0.9480\n",
      "Epoch 37/100\n",
      "3155/3155 [==============================] - 0s 116us/sample - loss: 0.6044 - wine_quality_loss: 0.4613 - wine_type_loss: 0.1434 - wine_quality_root_mean_squared_error: 0.6794 - wine_type_accuracy: 0.9471 - val_loss: 0.4872 - val_wine_quality_loss: 0.3540 - val_wine_type_loss: 0.1322 - val_wine_quality_root_mean_squared_error: 0.5960 - val_wine_type_accuracy: 0.9506\n",
      "Epoch 38/100\n",
      "3155/3155 [==============================] - 0s 98us/sample - loss: 0.5856 - wine_quality_loss: 0.4439 - wine_type_loss: 0.1412 - wine_quality_root_mean_squared_error: 0.6663 - wine_type_accuracy: 0.9480 - val_loss: 0.5045 - val_wine_quality_loss: 0.3692 - val_wine_type_loss: 0.1349 - val_wine_quality_root_mean_squared_error: 0.6080 - val_wine_type_accuracy: 0.9493\n",
      "Epoch 39/100\n",
      "3155/3155 [==============================] - 0s 95us/sample - loss: 0.6038 - wine_quality_loss: 0.4630 - wine_type_loss: 0.1396 - wine_quality_root_mean_squared_error: 0.6810 - wine_type_accuracy: 0.9490 - val_loss: 0.5349 - val_wine_quality_loss: 0.4035 - val_wine_type_loss: 0.1313 - val_wine_quality_root_mean_squared_error: 0.6354 - val_wine_type_accuracy: 0.9518\n",
      "Epoch 40/100\n",
      "3155/3155 [==============================] - 0s 96us/sample - loss: 0.5942 - wine_quality_loss: 0.4539 - wine_type_loss: 0.1409 - wine_quality_root_mean_squared_error: 0.6734 - wine_type_accuracy: 0.9487 - val_loss: 0.5712 - val_wine_quality_loss: 0.4403 - val_wine_type_loss: 0.1313 - val_wine_quality_root_mean_squared_error: 0.6633 - val_wine_type_accuracy: 0.9518\n",
      "Epoch 41/100\n",
      "3155/3155 [==============================] - 0s 98us/sample - loss: 0.5879 - wine_quality_loss: 0.4515 - wine_type_loss: 0.1385 - wine_quality_root_mean_squared_error: 0.6700 - wine_type_accuracy: 0.9493 - val_loss: 0.8760 - val_wine_quality_loss: 0.7425 - val_wine_type_loss: 0.1314 - val_wine_quality_root_mean_squared_error: 0.8630 - val_wine_type_accuracy: 0.9556\n",
      "Epoch 42/100\n",
      "3155/3155 [==============================] - 0s 95us/sample - loss: 0.5785 - wine_quality_loss: 0.4389 - wine_type_loss: 0.1391 - wine_quality_root_mean_squared_error: 0.6627 - wine_type_accuracy: 0.9477 - val_loss: 0.7333 - val_wine_quality_loss: 0.6039 - val_wine_type_loss: 0.1315 - val_wine_quality_root_mean_squared_error: 0.7757 - val_wine_type_accuracy: 0.9506\n",
      "Epoch 43/100\n",
      "3155/3155 [==============================] - 0s 96us/sample - loss: 0.5877 - wine_quality_loss: 0.4495 - wine_type_loss: 0.1378 - wine_quality_root_mean_squared_error: 0.6706 - wine_type_accuracy: 0.9487 - val_loss: 0.5307 - val_wine_quality_loss: 0.4008 - val_wine_type_loss: 0.1295 - val_wine_quality_root_mean_squared_error: 0.6335 - val_wine_type_accuracy: 0.9531\n",
      "Epoch 44/100\n",
      "3155/3155 [==============================] - 0s 96us/sample - loss: 0.5735 - wine_quality_loss: 0.4357 - wine_type_loss: 0.1379 - wine_quality_root_mean_squared_error: 0.6600 - wine_type_accuracy: 0.9496 - val_loss: 0.4787 - val_wine_quality_loss: 0.3450 - val_wine_type_loss: 0.1328 - val_wine_quality_root_mean_squared_error: 0.5882 - val_wine_type_accuracy: 0.9506\n",
      "Epoch 45/100\n",
      "3155/3155 [==============================] - 0s 96us/sample - loss: 0.5930 - wine_quality_loss: 0.4552 - wine_type_loss: 0.1369 - wine_quality_root_mean_squared_error: 0.6750 - wine_type_accuracy: 0.9499 - val_loss: 0.4850 - val_wine_quality_loss: 0.3474 - val_wine_type_loss: 0.1367 - val_wine_quality_root_mean_squared_error: 0.5902 - val_wine_type_accuracy: 0.9493\n",
      "Epoch 46/100\n",
      "3155/3155 [==============================] - 0s 96us/sample - loss: 0.5872 - wine_quality_loss: 0.4523 - wine_type_loss: 0.1354 - wine_quality_root_mean_squared_error: 0.6720 - wine_type_accuracy: 0.9506 - val_loss: 0.5578 - val_wine_quality_loss: 0.4184 - val_wine_type_loss: 0.1379 - val_wine_quality_root_mean_squared_error: 0.6480 - val_wine_type_accuracy: 0.9493\n",
      "Epoch 47/100\n",
      "3155/3155 [==============================] - 0s 95us/sample - loss: 0.5800 - wine_quality_loss: 0.4442 - wine_type_loss: 0.1354 - wine_quality_root_mean_squared_error: 0.6666 - wine_type_accuracy: 0.9499 - val_loss: 0.7561 - val_wine_quality_loss: 0.6263 - val_wine_type_loss: 0.1277 - val_wine_quality_root_mean_squared_error: 0.7927 - val_wine_type_accuracy: 0.9531\n",
      "Epoch 48/100\n",
      "3155/3155 [==============================] - 0s 96us/sample - loss: 0.5783 - wine_quality_loss: 0.4439 - wine_type_loss: 0.1337 - wine_quality_root_mean_squared_error: 0.6667 - wine_type_accuracy: 0.9531 - val_loss: 0.4865 - val_wine_quality_loss: 0.3554 - val_wine_type_loss: 0.1298 - val_wine_quality_root_mean_squared_error: 0.5972 - val_wine_type_accuracy: 0.9506\n",
      "Epoch 49/100\n",
      "3155/3155 [==============================] - 0s 111us/sample - loss: 0.5762 - wine_quality_loss: 0.4429 - wine_type_loss: 0.1331 - wine_quality_root_mean_squared_error: 0.6656 - wine_type_accuracy: 0.9528 - val_loss: 0.5472 - val_wine_quality_loss: 0.4181 - val_wine_type_loss: 0.1274 - val_wine_quality_root_mean_squared_error: 0.6479 - val_wine_type_accuracy: 0.9544\n",
      "Epoch 50/100\n",
      "3155/3155 [==============================] - 0s 98us/sample - loss: 0.5715 - wine_quality_loss: 0.4375 - wine_type_loss: 0.1333 - wine_quality_root_mean_squared_error: 0.6621 - wine_type_accuracy: 0.9509 - val_loss: 0.5652 - val_wine_quality_loss: 0.4404 - val_wine_type_loss: 0.1253 - val_wine_quality_root_mean_squared_error: 0.6632 - val_wine_type_accuracy: 0.9556\n",
      "Epoch 51/100\n",
      "3155/3155 [==============================] - 0s 96us/sample - loss: 0.5768 - wine_quality_loss: 0.4449 - wine_type_loss: 0.1320 - wine_quality_root_mean_squared_error: 0.6669 - wine_type_accuracy: 0.9506 - val_loss: 0.4824 - val_wine_quality_loss: 0.3518 - val_wine_type_loss: 0.1293 - val_wine_quality_root_mean_squared_error: 0.5941 - val_wine_type_accuracy: 0.9506\n",
      "Epoch 52/100\n",
      "3155/3155 [==============================] - 0s 98us/sample - loss: 0.5691 - wine_quality_loss: 0.4374 - wine_type_loss: 0.1313 - wine_quality_root_mean_squared_error: 0.6617 - wine_type_accuracy: 0.9540 - val_loss: 0.4882 - val_wine_quality_loss: 0.3644 - val_wine_type_loss: 0.1235 - val_wine_quality_root_mean_squared_error: 0.6039 - val_wine_type_accuracy: 0.9518\n",
      "Epoch 53/100\n",
      "3155/3155 [==============================] - 0s 94us/sample - loss: 0.5824 - wine_quality_loss: 0.4512 - wine_type_loss: 0.1310 - wine_quality_root_mean_squared_error: 0.6716 - wine_type_accuracy: 0.9534 - val_loss: 0.5006 - val_wine_quality_loss: 0.3682 - val_wine_type_loss: 0.1310 - val_wine_quality_root_mean_squared_error: 0.6078 - val_wine_type_accuracy: 0.9506\n",
      "Epoch 54/100\n",
      "3155/3155 [==============================] - 0s 96us/sample - loss: 0.5699 - wine_quality_loss: 0.4387 - wine_type_loss: 0.1308 - wine_quality_root_mean_squared_error: 0.6625 - wine_type_accuracy: 0.9512 - val_loss: 0.5651 - val_wine_quality_loss: 0.4435 - val_wine_type_loss: 0.1219 - val_wine_quality_root_mean_squared_error: 0.6656 - val_wine_type_accuracy: 0.9531\n",
      "Epoch 55/100\n",
      "3155/3155 [==============================] - 0s 95us/sample - loss: 0.5737 - wine_quality_loss: 0.4445 - wine_type_loss: 0.1302 - wine_quality_root_mean_squared_error: 0.6658 - wine_type_accuracy: 0.9518 - val_loss: 0.9663 - val_wine_quality_loss: 0.8425 - val_wine_type_loss: 0.1220 - val_wine_quality_root_mean_squared_error: 0.9189 - val_wine_type_accuracy: 0.9531\n",
      "Epoch 56/100\n",
      "3155/3155 [==============================] - 0s 96us/sample - loss: 0.5793 - wine_quality_loss: 0.4497 - wine_type_loss: 0.1298 - wine_quality_root_mean_squared_error: 0.6709 - wine_type_accuracy: 0.9515 - val_loss: 0.4647 - val_wine_quality_loss: 0.3430 - val_wine_type_loss: 0.1206 - val_wine_quality_root_mean_squared_error: 0.5865 - val_wine_type_accuracy: 0.9544\n",
      "Epoch 57/100\n",
      "3155/3155 [==============================] - 0s 98us/sample - loss: 0.5658 - wine_quality_loss: 0.4370 - wine_type_loss: 0.1285 - wine_quality_root_mean_squared_error: 0.6615 - wine_type_accuracy: 0.9528 - val_loss: 0.4874 - val_wine_quality_loss: 0.3656 - val_wine_type_loss: 0.1202 - val_wine_quality_root_mean_squared_error: 0.6059 - val_wine_type_accuracy: 0.9569\n",
      "Epoch 58/100\n",
      "3155/3155 [==============================] - 0s 98us/sample - loss: 0.5638 - wine_quality_loss: 0.4354 - wine_type_loss: 0.1286 - wine_quality_root_mean_squared_error: 0.6601 - wine_type_accuracy: 0.9537 - val_loss: 0.5214 - val_wine_quality_loss: 0.4010 - val_wine_type_loss: 0.1188 - val_wine_quality_root_mean_squared_error: 0.6344 - val_wine_type_accuracy: 0.9556\n",
      "Epoch 59/100\n",
      "3155/3155 [==============================] - 0s 96us/sample - loss: 0.5634 - wine_quality_loss: 0.4375 - wine_type_loss: 0.1269 - wine_quality_root_mean_squared_error: 0.6604 - wine_type_accuracy: 0.9556 - val_loss: 0.9975 - val_wine_quality_loss: 0.8806 - val_wine_type_loss: 0.1188 - val_wine_quality_root_mean_squared_error: 0.9373 - val_wine_type_accuracy: 0.9569\n",
      "Epoch 60/100\n",
      "3155/3155 [==============================] - 0s 96us/sample - loss: 0.5730 - wine_quality_loss: 0.4463 - wine_type_loss: 0.1270 - wine_quality_root_mean_squared_error: 0.6677 - wine_type_accuracy: 0.9518 - val_loss: 0.5019 - val_wine_quality_loss: 0.3816 - val_wine_type_loss: 0.1189 - val_wine_quality_root_mean_squared_error: 0.6188 - val_wine_type_accuracy: 0.9594\n",
      "Epoch 61/100\n",
      "3155/3155 [==============================] - 0s 96us/sample - loss: 0.5693 - wine_quality_loss: 0.4436 - wine_type_loss: 0.1253 - wine_quality_root_mean_squared_error: 0.6661 - wine_type_accuracy: 0.9556 - val_loss: 0.4650 - val_wine_quality_loss: 0.3432 - val_wine_type_loss: 0.1207 - val_wine_quality_root_mean_squared_error: 0.5866 - val_wine_type_accuracy: 0.9531\n",
      "Epoch 62/100\n",
      "3155/3155 [==============================] - 0s 96us/sample - loss: 0.5719 - wine_quality_loss: 0.4468 - wine_type_loss: 0.1242 - wine_quality_root_mean_squared_error: 0.6690 - wine_type_accuracy: 0.9559 - val_loss: 0.4812 - val_wine_quality_loss: 0.3601 - val_wine_type_loss: 0.1205 - val_wine_quality_root_mean_squared_error: 0.6004 - val_wine_type_accuracy: 0.9531\n",
      "Epoch 63/100\n",
      "3155/3155 [==============================] - 0s 95us/sample - loss: 0.5653 - wine_quality_loss: 0.4415 - wine_type_loss: 0.1245 - wine_quality_root_mean_squared_error: 0.6641 - wine_type_accuracy: 0.9528 - val_loss: 0.6667 - val_wine_quality_loss: 0.5502 - val_wine_type_loss: 0.1172 - val_wine_quality_root_mean_squared_error: 0.7412 - val_wine_type_accuracy: 0.9556\n",
      "Epoch 64/100\n",
      "3155/3155 [==============================] - 0s 94us/sample - loss: 0.5662 - wine_quality_loss: 0.4422 - wine_type_loss: 0.1233 - wine_quality_root_mean_squared_error: 0.6652 - wine_type_accuracy: 0.9550 - val_loss: 0.4705 - val_wine_quality_loss: 0.3490 - val_wine_type_loss: 0.1202 - val_wine_quality_root_mean_squared_error: 0.5917 - val_wine_type_accuracy: 0.9531\n",
      "Epoch 65/100\n",
      "3155/3155 [==============================] - 0s 96us/sample - loss: 0.5627 - wine_quality_loss: 0.4398 - wine_type_loss: 0.1241 - wine_quality_root_mean_squared_error: 0.6633 - wine_type_accuracy: 0.9566 - val_loss: 0.4997 - val_wine_quality_loss: 0.3820 - val_wine_type_loss: 0.1175 - val_wine_quality_root_mean_squared_error: 0.6181 - val_wine_type_accuracy: 0.9632\n",
      "Epoch 66/100\n",
      "3155/3155 [==============================] - 0s 97us/sample - loss: 0.5640 - wine_quality_loss: 0.4408 - wine_type_loss: 0.1225 - wine_quality_root_mean_squared_error: 0.6644 - wine_type_accuracy: 0.9569 - val_loss: 0.6545 - val_wine_quality_loss: 0.5339 - val_wine_type_loss: 0.1186 - val_wine_quality_root_mean_squared_error: 0.7319 - val_wine_type_accuracy: 0.9531\n",
      "Epoch 67/100\n",
      "3155/3155 [==============================] - 0s 94us/sample - loss: 0.5478 - wine_quality_loss: 0.4254 - wine_type_loss: 0.1214 - wine_quality_root_mean_squared_error: 0.6527 - wine_type_accuracy: 0.9569 - val_loss: 0.4893 - val_wine_quality_loss: 0.3668 - val_wine_type_loss: 0.1208 - val_wine_quality_root_mean_squared_error: 0.6068 - val_wine_type_accuracy: 0.9531\n",
      "Epoch 68/100\n",
      "3155/3155 [==============================] - 0s 97us/sample - loss: 0.5630 - wine_quality_loss: 0.4426 - wine_type_loss: 0.1204 - wine_quality_root_mean_squared_error: 0.6651 - wine_type_accuracy: 0.9544 - val_loss: 0.5135 - val_wine_quality_loss: 0.3909 - val_wine_type_loss: 0.1219 - val_wine_quality_root_mean_squared_error: 0.6256 - val_wine_type_accuracy: 0.9556\n",
      "Epoch 69/100\n",
      "3155/3155 [==============================] - 0s 95us/sample - loss: 0.5526 - wine_quality_loss: 0.4337 - wine_type_loss: 0.1197 - wine_quality_root_mean_squared_error: 0.6578 - wine_type_accuracy: 0.9578 - val_loss: 0.7063 - val_wine_quality_loss: 0.5857 - val_wine_type_loss: 0.1185 - val_wine_quality_root_mean_squared_error: 0.7665 - val_wine_type_accuracy: 0.9531\n",
      "Epoch 70/100\n",
      "3155/3155 [==============================] - 0s 95us/sample - loss: 0.5584 - wine_quality_loss: 0.4380 - wine_type_loss: 0.1204 - wine_quality_root_mean_squared_error: 0.6623 - wine_type_accuracy: 0.9566 - val_loss: 0.4916 - val_wine_quality_loss: 0.3755 - val_wine_type_loss: 0.1144 - val_wine_quality_root_mean_squared_error: 0.6139 - val_wine_type_accuracy: 0.9645\n",
      "Epoch 71/100\n",
      "3155/3155 [==============================] - 0s 96us/sample - loss: 0.5471 - wine_quality_loss: 0.4273 - wine_type_loss: 0.1189 - wine_quality_root_mean_squared_error: 0.6541 - wine_type_accuracy: 0.9553 - val_loss: 0.4534 - val_wine_quality_loss: 0.3395 - val_wine_type_loss: 0.1126 - val_wine_quality_root_mean_squared_error: 0.5836 - val_wine_type_accuracy: 0.9594\n",
      "Epoch 72/100\n",
      "3155/3155 [==============================] - 0s 95us/sample - loss: 0.5548 - wine_quality_loss: 0.4367 - wine_type_loss: 0.1180 - wine_quality_root_mean_squared_error: 0.6606 - wine_type_accuracy: 0.9563 - val_loss: 0.9617 - val_wine_quality_loss: 0.8473 - val_wine_type_loss: 0.1118 - val_wine_quality_root_mean_squared_error: 0.9218 - val_wine_type_accuracy: 0.9607\n",
      "Epoch 73/100\n",
      "3155/3155 [==============================] - 0s 96us/sample - loss: 0.5579 - wine_quality_loss: 0.4400 - wine_type_loss: 0.1174 - wine_quality_root_mean_squared_error: 0.6636 - wine_type_accuracy: 0.9591 - val_loss: 0.4862 - val_wine_quality_loss: 0.3694 - val_wine_type_loss: 0.1153 - val_wine_quality_root_mean_squared_error: 0.6089 - val_wine_type_accuracy: 0.9670\n",
      "Epoch 74/100\n",
      "3155/3155 [==============================] - 0s 92us/sample - loss: 0.5454 - wine_quality_loss: 0.4294 - wine_type_loss: 0.1172 - wine_quality_root_mean_squared_error: 0.6542 - wine_type_accuracy: 0.9597 - val_loss: 0.5560 - val_wine_quality_loss: 0.4365 - val_wine_type_loss: 0.1174 - val_wine_quality_root_mean_squared_error: 0.6620 - val_wine_type_accuracy: 0.9531\n",
      "Epoch 75/100\n",
      "3155/3155 [==============================] - 0s 97us/sample - loss: 0.5506 - wine_quality_loss: 0.4341 - wine_type_loss: 0.1166 - wine_quality_root_mean_squared_error: 0.6589 - wine_type_accuracy: 0.9572 - val_loss: 0.4625 - val_wine_quality_loss: 0.3498 - val_wine_type_loss: 0.1119 - val_wine_quality_root_mean_squared_error: 0.5919 - val_wine_type_accuracy: 0.9658\n",
      "Epoch 76/100\n",
      "3155/3155 [==============================] - 0s 95us/sample - loss: 0.5494 - wine_quality_loss: 0.4346 - wine_type_loss: 0.1157 - wine_quality_root_mean_squared_error: 0.6588 - wine_type_accuracy: 0.9591 - val_loss: 0.7043 - val_wine_quality_loss: 0.5957 - val_wine_type_loss: 0.1102 - val_wine_quality_root_mean_squared_error: 0.7706 - val_wine_type_accuracy: 0.9658\n",
      "Epoch 77/100\n",
      "3155/3155 [==============================] - 0s 97us/sample - loss: 0.5392 - wine_quality_loss: 0.4272 - wine_type_loss: 0.1148 - wine_quality_root_mean_squared_error: 0.6513 - wine_type_accuracy: 0.9591 - val_loss: 0.8977 - val_wine_quality_loss: 0.7864 - val_wine_type_loss: 0.1088 - val_wine_quality_root_mean_squared_error: 0.8880 - val_wine_type_accuracy: 0.9645\n",
      "Epoch 78/100\n",
      "3155/3155 [==============================] - 0s 95us/sample - loss: 0.5463 - wine_quality_loss: 0.4311 - wine_type_loss: 0.1146 - wine_quality_root_mean_squared_error: 0.6570 - wine_type_accuracy: 0.9594 - val_loss: 0.4711 - val_wine_quality_loss: 0.3589 - val_wine_type_loss: 0.1105 - val_wine_quality_root_mean_squared_error: 0.6002 - val_wine_type_accuracy: 0.9582\n",
      "Epoch 79/100\n",
      "3155/3155 [==============================] - 0s 96us/sample - loss: 0.5395 - wine_quality_loss: 0.4261 - wine_type_loss: 0.1138 - wine_quality_root_mean_squared_error: 0.6521 - wine_type_accuracy: 0.9620 - val_loss: 0.7190 - val_wine_quality_loss: 0.5986 - val_wine_type_loss: 0.1184 - val_wine_quality_root_mean_squared_error: 0.7748 - val_wine_type_accuracy: 0.9556\n",
      "Epoch 80/100\n",
      "3155/3155 [==============================] - 0s 96us/sample - loss: 0.5422 - wine_quality_loss: 0.4275 - wine_type_loss: 0.1144 - wine_quality_root_mean_squared_error: 0.6538 - wine_type_accuracy: 0.9585 - val_loss: 0.9762 - val_wine_quality_loss: 0.8585 - val_wine_type_loss: 0.1148 - val_wine_quality_root_mean_squared_error: 0.9279 - val_wine_type_accuracy: 0.9531\n",
      "Epoch 81/100\n",
      "3155/3155 [==============================] - 0s 96us/sample - loss: 0.5425 - wine_quality_loss: 0.4307 - wine_type_loss: 0.1124 - wine_quality_root_mean_squared_error: 0.6563 - wine_type_accuracy: 0.9604 - val_loss: 0.5162 - val_wine_quality_loss: 0.4066 - val_wine_type_loss: 0.1078 - val_wine_quality_root_mean_squared_error: 0.6388 - val_wine_type_accuracy: 0.9696\n",
      "Epoch 82/100\n",
      "3155/3155 [==============================] - 0s 95us/sample - loss: 0.5383 - wine_quality_loss: 0.4260 - wine_type_loss: 0.1123 - wine_quality_root_mean_squared_error: 0.6525 - wine_type_accuracy: 0.9623 - val_loss: 0.4535 - val_wine_quality_loss: 0.3442 - val_wine_type_loss: 0.1084 - val_wine_quality_root_mean_squared_error: 0.5872 - val_wine_type_accuracy: 0.9594\n",
      "Epoch 83/100\n",
      "3155/3155 [==============================] - 0s 95us/sample - loss: 0.5465 - wine_quality_loss: 0.4352 - wine_type_loss: 0.1116 - wine_quality_root_mean_squared_error: 0.6594 - wine_type_accuracy: 0.9613 - val_loss: 0.4686 - val_wine_quality_loss: 0.3600 - val_wine_type_loss: 0.1069 - val_wine_quality_root_mean_squared_error: 0.6011 - val_wine_type_accuracy: 0.9683\n",
      "Epoch 84/100\n",
      "3155/3155 [==============================] - 0s 96us/sample - loss: 0.5357 - wine_quality_loss: 0.4242 - wine_type_loss: 0.1107 - wine_quality_root_mean_squared_error: 0.6516 - wine_type_accuracy: 0.9639 - val_loss: 0.5450 - val_wine_quality_loss: 0.4241 - val_wine_type_loss: 0.1206 - val_wine_quality_root_mean_squared_error: 0.6512 - val_wine_type_accuracy: 0.9556\n",
      "Epoch 85/100\n",
      "3155/3155 [==============================] - 0s 143us/sample - loss: 0.5282 - wine_quality_loss: 0.4184 - wine_type_loss: 0.1098 - wine_quality_root_mean_squared_error: 0.6465 - wine_type_accuracy: 0.9616 - val_loss: 0.5237 - val_wine_quality_loss: 0.4158 - val_wine_type_loss: 0.1058 - val_wine_quality_root_mean_squared_error: 0.6462 - val_wine_type_accuracy: 0.9670\n",
      "Epoch 86/100\n",
      "3155/3155 [==============================] - 0s 133us/sample - loss: 0.5424 - wine_quality_loss: 0.4328 - wine_type_loss: 0.1100 - wine_quality_root_mean_squared_error: 0.6579 - wine_type_accuracy: 0.9629 - val_loss: 0.4535 - val_wine_quality_loss: 0.3459 - val_wine_type_loss: 0.1064 - val_wine_quality_root_mean_squared_error: 0.5888 - val_wine_type_accuracy: 0.9632\n",
      "Epoch 87/100\n",
      "3155/3155 [==============================] - 0s 95us/sample - loss: 0.5444 - wine_quality_loss: 0.4349 - wine_type_loss: 0.1093 - wine_quality_root_mean_squared_error: 0.6594 - wine_type_accuracy: 0.9642 - val_loss: 0.4620 - val_wine_quality_loss: 0.3495 - val_wine_type_loss: 0.1117 - val_wine_quality_root_mean_squared_error: 0.5915 - val_wine_type_accuracy: 0.9556\n",
      "Epoch 88/100\n",
      "3155/3155 [==============================] - 0s 97us/sample - loss: 0.5354 - wine_quality_loss: 0.4256 - wine_type_loss: 0.1097 - wine_quality_root_mean_squared_error: 0.6526 - wine_type_accuracy: 0.9626 - val_loss: 0.4686 - val_wine_quality_loss: 0.3584 - val_wine_type_loss: 0.1096 - val_wine_quality_root_mean_squared_error: 0.5988 - val_wine_type_accuracy: 0.9556\n",
      "Epoch 89/100\n",
      "3155/3155 [==============================] - 0s 96us/sample - loss: 0.5422 - wine_quality_loss: 0.4332 - wine_type_loss: 0.1084 - wine_quality_root_mean_squared_error: 0.6588 - wine_type_accuracy: 0.9616 - val_loss: 0.4795 - val_wine_quality_loss: 0.3747 - val_wine_type_loss: 0.1044 - val_wine_quality_root_mean_squared_error: 0.6122 - val_wine_type_accuracy: 0.9696\n",
      "Epoch 90/100\n",
      "3155/3155 [==============================] - 0s 96us/sample - loss: 0.5299 - wine_quality_loss: 0.4240 - wine_type_loss: 0.1075 - wine_quality_root_mean_squared_error: 0.6498 - wine_type_accuracy: 0.9616 - val_loss: 0.6259 - val_wine_quality_loss: 0.5183 - val_wine_type_loss: 0.1079 - val_wine_quality_root_mean_squared_error: 0.7195 - val_wine_type_accuracy: 0.9569\n",
      "Epoch 91/100\n",
      "3155/3155 [==============================] - 0s 124us/sample - loss: 0.5216 - wine_quality_loss: 0.4148 - wine_type_loss: 0.1065 - wine_quality_root_mean_squared_error: 0.6441 - wine_type_accuracy: 0.9632 - val_loss: 0.4789 - val_wine_quality_loss: 0.3761 - val_wine_type_loss: 0.1022 - val_wine_quality_root_mean_squared_error: 0.6135 - val_wine_type_accuracy: 0.9696\n",
      "Epoch 92/100\n",
      "3155/3155 [==============================] - 0s 103us/sample - loss: 0.5253 - wine_quality_loss: 0.4187 - wine_type_loss: 0.1071 - wine_quality_root_mean_squared_error: 0.6467 - wine_type_accuracy: 0.9639 - val_loss: 0.5245 - val_wine_quality_loss: 0.4153 - val_wine_type_loss: 0.1086 - val_wine_quality_root_mean_squared_error: 0.6446 - val_wine_type_accuracy: 0.9556\n",
      "Epoch 93/100\n",
      "3155/3155 [==============================] - 0s 111us/sample - loss: 0.5338 - wine_quality_loss: 0.4284 - wine_type_loss: 0.1052 - wine_quality_root_mean_squared_error: 0.6544 - wine_type_accuracy: 0.9642 - val_loss: 0.5817 - val_wine_quality_loss: 0.4808 - val_wine_type_loss: 0.1013 - val_wine_quality_root_mean_squared_error: 0.6928 - val_wine_type_accuracy: 0.9696\n",
      "Epoch 94/100\n",
      "3155/3155 [==============================] - 0s 100us/sample - loss: 0.5169 - wine_quality_loss: 0.4122 - wine_type_loss: 0.1045 - wine_quality_root_mean_squared_error: 0.6422 - wine_type_accuracy: 0.9635 - val_loss: 0.5016 - val_wine_quality_loss: 0.3990 - val_wine_type_loss: 0.1021 - val_wine_quality_root_mean_squared_error: 0.6319 - val_wine_type_accuracy: 0.9696\n",
      "Epoch 95/100\n",
      "3155/3155 [==============================] - 0s 97us/sample - loss: 0.5290 - wine_quality_loss: 0.4235 - wine_type_loss: 0.1046 - wine_quality_root_mean_squared_error: 0.6515 - wine_type_accuracy: 0.9642 - val_loss: 0.4481 - val_wine_quality_loss: 0.3404 - val_wine_type_loss: 0.1066 - val_wine_quality_root_mean_squared_error: 0.5840 - val_wine_type_accuracy: 0.9594\n",
      "Epoch 96/100\n",
      "3155/3155 [==============================] - 0s 98us/sample - loss: 0.5293 - wine_quality_loss: 0.4247 - wine_type_loss: 0.1038 - wine_quality_root_mean_squared_error: 0.6522 - wine_type_accuracy: 0.9658 - val_loss: 0.4440 - val_wine_quality_loss: 0.3414 - val_wine_type_loss: 0.1014 - val_wine_quality_root_mean_squared_error: 0.5849 - val_wine_type_accuracy: 0.9683\n",
      "Epoch 97/100\n",
      "3155/3155 [==============================] - 0s 115us/sample - loss: 0.5333 - wine_quality_loss: 0.4312 - wine_type_loss: 0.1016 - wine_quality_root_mean_squared_error: 0.6568 - wine_type_accuracy: 0.9651 - val_loss: 0.6149 - val_wine_quality_loss: 0.4961 - val_wine_type_loss: 0.1166 - val_wine_quality_root_mean_squared_error: 0.7056 - val_wine_type_accuracy: 0.9556\n",
      "Epoch 98/100\n",
      "3155/3155 [==============================] - 0s 98us/sample - loss: 0.5345 - wine_quality_loss: 0.4305 - wine_type_loss: 0.1031 - wine_quality_root_mean_squared_error: 0.6566 - wine_type_accuracy: 0.9648 - val_loss: 0.4996 - val_wine_quality_loss: 0.3980 - val_wine_type_loss: 0.0998 - val_wine_quality_root_mean_squared_error: 0.6320 - val_wine_type_accuracy: 0.9708\n",
      "Epoch 99/100\n",
      "3155/3155 [==============================] - 0s 97us/sample - loss: 0.5135 - wine_quality_loss: 0.4121 - wine_type_loss: 0.1014 - wine_quality_root_mean_squared_error: 0.6420 - wine_type_accuracy: 0.9664 - val_loss: 0.8098 - val_wine_quality_loss: 0.7093 - val_wine_type_loss: 0.1026 - val_wine_quality_root_mean_squared_error: 0.8408 - val_wine_type_accuracy: 0.9772\n",
      "Epoch 100/100\n",
      "3155/3155 [==============================] - 0s 97us/sample - loss: 0.5332 - wine_quality_loss: 0.4310 - wine_type_loss: 0.1020 - wine_quality_root_mean_squared_error: 0.6568 - wine_type_accuracy: 0.9655 - val_loss: 0.4572 - val_wine_quality_loss: 0.3584 - val_wine_type_loss: 0.0980 - val_wine_quality_root_mean_squared_error: 0.5990 - val_wine_type_accuracy: 0.9696\n"
     ]
    }
   ],
   "source": [
    "## Please uncomment all lines in this cell and replace those marked with `# YOUR CODE HERE`.\n",
    "## You can select all lines in this code cell with Ctrl+A (Windows/Linux) or Cmd+A (Mac), then press Ctrl+/ (Windows/Linux) or Cmd+/ (Mac) to uncomment.\n",
    "\n",
    "\n",
    "\n",
    "history = model.fit(train, train_Y,\n",
    "                     epochs = 100, validation_data=(val, val_Y))"
   ]
  },
  {
   "cell_type": "code",
   "execution_count": 135,
   "metadata": {
    "deletable": false,
    "editable": false,
    "nbgrader": {
     "cell_type": "code",
     "checksum": "fadad8896eda9c8c2115970724b15508",
     "grade": true,
     "grade_id": "cell-eb4d5b41bef8f0ab",
     "locked": true,
     "points": 1,
     "schema_version": 3,
     "solution": false,
     "task": false
    }
   },
   "outputs": [
    {
     "name": "stdout",
     "output_type": "stream",
     "text": [
      "\u001b[92m All public tests passed\n"
     ]
    }
   ],
   "source": [
    "utils.test_history(history)"
   ]
  },
  {
   "cell_type": "code",
   "execution_count": 136,
   "metadata": {
    "colab": {},
    "colab_type": "code",
    "id": "CubF2J2gSf6q"
   },
   "outputs": [
    {
     "name": "stdout",
     "output_type": "stream",
     "text": [
      "789/789 [==============================] - 0s 71us/sample - loss: 29.0437 - wine_quality_loss: 28.6431 - wine_type_loss: 0.3906 - wine_quality_root_mean_squared_error: 5.3530 - wine_type_accuracy: 0.8973\n",
      "\n",
      "loss: 29.043690581134367\n",
      "wine_quality_loss: 28.64307403564453\n",
      "wine_type_loss: 0.39057090878486633\n",
      "wine_quality_rmse: 5.3529558181762695\n",
      "wine_type_accuracy: 0.8973383903503418\n"
     ]
    }
   ],
   "source": [
    "# Gather the training metrics\n",
    "loss, wine_quality_loss, wine_type_loss, wine_quality_rmse, wine_type_accuracy = model.evaluate(x=norm_val_X, y=val_Y)\n",
    "\n",
    "print()\n",
    "print(f'loss: {loss}')\n",
    "print(f'wine_quality_loss: {wine_quality_loss}')\n",
    "print(f'wine_type_loss: {wine_type_loss}')\n",
    "print(f'wine_quality_rmse: {wine_quality_rmse}')\n",
    "print(f'wine_type_accuracy: {wine_type_accuracy}')\n",
    "\n",
    "# EXPECTED VALUES\n",
    "# ~ 0.30 - 0.38\n",
    "# ~ 0.30 - 0.38\n",
    "# ~ 0.018 - 0.036\n",
    "# ~ 0.50 - 0.62\n",
    "# ~ 0.97 - 1.0\n",
    "\n",
    "# Example:\n",
    "#0.3657050132751465\n",
    "#0.3463745415210724\n",
    "#0.019330406561493874\n",
    "#0.5885359048843384\n",
    "#0.9974651336669922"
   ]
  },
  {
   "cell_type": "markdown",
   "metadata": {
    "colab_type": "text",
    "id": "gPtTGAP4usnm"
   },
   "source": [
    "## Analyze the Model Performance\n",
    "\n",
    "Note that the model has two outputs. The output at index 0 is quality and index 1 is wine type\n",
    "\n",
    "So, round the quality predictions to the nearest integer."
   ]
  },
  {
   "cell_type": "code",
   "execution_count": 137,
   "metadata": {
    "colab": {},
    "colab_type": "code",
    "id": "tBq9PEeAaW-Y"
   },
   "outputs": [],
   "source": [
    "predictions = model.predict(norm_test_X)\n",
    "quality_pred = predictions[0]\n",
    "type_pred = predictions[1]"
   ]
  },
  {
   "cell_type": "code",
   "execution_count": 138,
   "metadata": {
    "colab": {},
    "colab_type": "code",
    "id": "YLhgTR4xTIxj"
   },
   "outputs": [
    {
     "name": "stdout",
     "output_type": "stream",
     "text": [
      "[0.5687375]\n"
     ]
    }
   ],
   "source": [
    "print(quality_pred[0])\n",
    "\n",
    "# EXPECTED OUTPUT\n",
    "# 5.4 - 6.0"
   ]
  },
  {
   "cell_type": "code",
   "execution_count": 139,
   "metadata": {
    "colab": {},
    "colab_type": "code",
    "id": "MPi-eYfGTUXi"
   },
   "outputs": [
    {
     "name": "stdout",
     "output_type": "stream",
     "text": [
      "[0.21204288]\n",
      "[0.999933]\n"
     ]
    }
   ],
   "source": [
    "print(type_pred[0])\n",
    "print(type_pred[944])\n",
    "\n",
    "# EXPECTED OUTPUT\n",
    "# A number close to zero\n",
    "# A number close to or equal to 1"
   ]
  },
  {
   "cell_type": "markdown",
   "metadata": {
    "colab_type": "text",
    "id": "Kohk-9C6vt_s"
   },
   "source": [
    "### Plot Utilities\n",
    "\n",
    "We define a few utilities to visualize the model performance."
   ]
  },
  {
   "cell_type": "code",
   "execution_count": 140,
   "metadata": {
    "colab": {},
    "colab_type": "code",
    "id": "62gEOFUhn6aQ"
   },
   "outputs": [],
   "source": [
    "def plot_metrics(metric_name, title, ylim=5):\n",
    "    plt.title(title)\n",
    "    plt.ylim(0,ylim)\n",
    "    plt.plot(history.history[metric_name],color='blue',label=metric_name)\n",
    "    plt.plot(history.history['val_' + metric_name],color='green',label='val_' + metric_name)\n"
   ]
  },
  {
   "cell_type": "code",
   "execution_count": 141,
   "metadata": {
    "colab": {},
    "colab_type": "code",
    "id": "6rfgSx7uz5dj"
   },
   "outputs": [],
   "source": [
    "def plot_confusion_matrix(y_true, y_pred, title='', labels=[0,1]):\n",
    "    cm = confusion_matrix(y_true, y_pred)\n",
    "    fig = plt.figure()\n",
    "    ax = fig.add_subplot(111)\n",
    "    cax = ax.matshow(cm)\n",
    "    plt.title('Confusion matrix of the classifier')\n",
    "    fig.colorbar(cax)\n",
    "    ax.set_xticklabels([''] + labels)\n",
    "    ax.set_yticklabels([''] + labels)\n",
    "    plt.xlabel('Predicted')\n",
    "    plt.ylabel('True')\n",
    "    fmt = 'd'\n",
    "    thresh = cm.max() / 2.\n",
    "    for i, j in itertools.product(range(cm.shape[0]), range(cm.shape[1])):\n",
    "          plt.text(j, i, format(cm[i, j], fmt),\n",
    "                  horizontalalignment=\"center\",\n",
    "                  color=\"black\" if cm[i, j] > thresh else \"white\")\n",
    "    plt.show()"
   ]
  },
  {
   "cell_type": "code",
   "execution_count": 142,
   "metadata": {
    "colab": {},
    "colab_type": "code",
    "id": "dfVLIqi017Vf"
   },
   "outputs": [],
   "source": [
    "def plot_diff(y_true, y_pred, title = '' ):\n",
    "    plt.scatter(y_true, y_pred)\n",
    "    plt.title(title)\n",
    "    plt.xlabel('True Values')\n",
    "    plt.ylabel('Predictions')\n",
    "    plt.axis('equal')\n",
    "    plt.axis('square')\n",
    "    plt.plot([-100, 100], [-100, 100])\n",
    "    return plt"
   ]
  },
  {
   "cell_type": "markdown",
   "metadata": {
    "colab_type": "text",
    "id": "8sd1jdFbwE0I"
   },
   "source": [
    "### Plots for Metrics"
   ]
  },
  {
   "cell_type": "code",
   "execution_count": 143,
   "metadata": {
    "colab": {},
    "colab_type": "code",
    "id": "f3MwZ5J1pOfj"
   },
   "outputs": [
    {
     "data": {
      "image/png": "[encoded data removed]",
      "text/plain": [
       "<Figure size 432x288 with 1 Axes>"
      ]
     },
     "metadata": {
      "needs_background": "light"
     },
     "output_type": "display_data"
    }
   ],
   "source": [
    "plot_metrics('wine_quality_root_mean_squared_error', 'RMSE', ylim=2)"
   ]
  },
  {
   "cell_type": "code",
   "execution_count": 144,
   "metadata": {
    "colab": {},
    "colab_type": "code",
    "id": "QIAxEezCppnd"
   },
   "outputs": [
    {
     "data": {
      "image/png": "[encoded data removed]",
      "text/plain": [
       "<Figure size 432x288 with 1 Axes>"
      ]
     },
     "metadata": {
      "needs_background": "light"
     },
     "output_type": "display_data"
    }
   ],
   "source": [
    "plot_metrics('wine_type_loss', 'Wine Type Loss', ylim=0.2)"
   ]
  },
  {
   "cell_type": "markdown",
   "metadata": {
    "colab_type": "text",
    "id": "uYV9AOAMwI9p"
   },
   "source": [
    "### Plots for Confusion Matrix\n",
    "\n",
    "Plot the confusion matrices for wine type. You can see that the model performs well for prediction of wine type from the confusion matrix and the loss metrics."
   ]
  },
  {
   "cell_type": "code",
   "execution_count": 145,
   "metadata": {
    "colab": {},
    "colab_type": "code",
    "id": "C3hvTYxIaf3n"
   },
   "outputs": [
    {
     "data": {
      "image/png": "[encoded data removed]",
      "text/plain": [
       "<Figure size 432x288 with 2 Axes>"
      ]
     },
     "metadata": {
      "needs_background": "light"
     },
     "output_type": "display_data"
    }
   ],
   "source": [
    "plot_confusion_matrix(test_Y[1], np.round(type_pred), title='Wine Type', labels = [0, 1])"
   ]
  },
  {
   "cell_type": "code",
   "execution_count": 146,
   "metadata": {
    "colab": {},
    "colab_type": "code",
    "id": "GW91ym8P2I5y"
   },
   "outputs": [
    {
     "data": {
      "image/png": "[encoded data removed]",
      "text/plain": [
       "<Figure size 432x288 with 1 Axes>"
      ]
     },
     "metadata": {
      "needs_background": "light"
     },
     "output_type": "display_data"
    }
   ],
   "source": [
    "scatter_plot = plot_diff(test_Y[0], quality_pred, title='Type')"
   ]
  },
  {
   "cell_type": "code",
   "execution_count": null,
   "metadata": {},
   "outputs": [],
   "source": []
  }
 ],
 "metadata": {
  "colab": {
   "include_colab_link": true,
   "name": "exercise-answer.ipynb",
   "provenance": []
  },
  "kernelspec": {
   "display_name": "Python 3",
   "language": "python",
   "name": "python3"
  },
  "language_info": {
   "codemirror_mode": {
    "name": "ipython",
    "version": 3
   },
   "file_extension": ".py",
   "mimetype": "text/x-python",
   "name": "python",
   "nbconvert_exporter": "python",
   "pygments_lexer": "ipython3",
   "version": "3.7.6"
  }
 },
 "nbformat": 4,
 "nbformat_minor": 4
}
